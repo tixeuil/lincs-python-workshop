{
 "cells": [
  {
   "cell_type": "code",
   "execution_count": null,
   "id": "7643eff0-9d81-4daa-9fcb-2f77e8a9116a",
   "metadata": {},
   "outputs": [],
   "source": [
    "!pip install --upgrade pip\n",
    "!pip install joblib\n",
    "!pip install scikit-learn"
   ]
  },
  {
   "cell_type": "markdown",
   "id": "6baae6d1-d11c-4ac4-b8d2-b9976f97b8d2",
   "metadata": {},
   "source": [
    "# Documentation\n",
    "- [itertools](https://docs.python.org/3/library/itertools.html)\n",
    "- [joblib](https://joblib.readthedocs.io)"
   ]
  },
  {
   "cell_type": "markdown",
   "id": "a9fbcbea-33bb-4b30-8e44-ee9dc009b953",
   "metadata": {},
   "source": [
    "# itertools"
   ]
  },
  {
   "cell_type": "markdown",
   "id": "6841623f-5625-41de-b998-a5ca8116eb6b",
   "metadata": {},
   "source": [
    "The itertools library in Python is a powerful tool for working with iterators and creating efficient, memory-friendly code."
   ]
  },
  {
   "cell_type": "markdown",
   "id": "e0944e9d-cbc2-4247-abf6-bc7f738ac3fe",
   "metadata": {},
   "source": [
    "## itertools.count ([start[, step]])\n",
    "iterates over start, start+step, start+2*step, …\n"
   ]
  },
  {
   "cell_type": "code",
   "execution_count": null,
   "id": "13772eb9-49a7-4b1e-8e5a-d9653ebb4716",
   "metadata": {},
   "outputs": [],
   "source": [
    "import itertools\n",
    "\n",
    "for i in range(10, 0, -1):\n",
    "    print(i)\n",
    "\n",
    "# infinte loop\n",
    "# for i in itertools.count(start=10, step=-1):\n",
    "#    print(i)"
   ]
  },
  {
   "cell_type": "code",
   "execution_count": null,
   "id": "61ba9809-b83d-4331-9068-a77503dc78e8",
   "metadata": {},
   "outputs": [],
   "source": [
    "import itertools\n",
    "\n",
    "for i in range(10, 0, -1):\n",
    "    print(i)\n",
    "\n",
    "for i in itertools.count(start=10, step=-1):\n",
    "    if i<1:\n",
    "        break\n",
    "    print(i)"
   ]
  },
  {
   "cell_type": "code",
   "execution_count": null,
   "id": "24dba02f-1477-4ebb-87ac-1c7b0ef529db",
   "metadata": {},
   "outputs": [],
   "source": [
    "import itertools\n",
    "import time\n",
    "\n",
    "# Benchmarking range\n",
    "start_time = time.time()\n",
    "lr = []\n",
    "for i in range(10000000, 0, -1):\n",
    "    lr.append(i)\n",
    "range_time = time.time() - start_time\n",
    "\n",
    "# Benchmarking itertools\n",
    "start_time = time.time()\n",
    "li = []\n",
    "for i in itertools.count(start=10000000, step=-1):\n",
    "    if i<1:\n",
    "        break\n",
    "    li.append(i)\n",
    "itertools_time = time.time() - start_time\n",
    "\n",
    "# Display the results\n",
    "print(f\"itertools time: {itertools_time:.6f} seconds\")\n",
    "print(f\"range loops time: {range_time:.6f} seconds\")"
   ]
  },
  {
   "cell_type": "markdown",
   "id": "fc187ccd-06a6-4091-92ac-d0674044343b",
   "metadata": {},
   "source": [
    "## itertools.islice (seq, [start,] stop [, step])\n",
    "iterates over elements from seq[start:stop:step]"
   ]
  },
  {
   "cell_type": "code",
   "execution_count": null,
   "id": "d8234abc-3cd1-419b-aa57-544c6f4226f7",
   "metadata": {},
   "outputs": [],
   "source": [
    "import itertools\n",
    "import time\n",
    "\n",
    "# Benchmarking range\n",
    "start_time = time.time()\n",
    "lr = []\n",
    "for i in range(10000000, 0, -1):\n",
    "    lr.append(i)\n",
    "range_time = time.time() - start_time\n",
    "\n",
    "# Benchmarking itertools\n",
    "start_time = time.time()\n",
    "li = []\n",
    "for i in itertools.islice(itertools.count(start=10000000, step=-1),1):\n",
    "    li.append(i)\n",
    "itertools_time = time.time() - start_time\n",
    "\n",
    "# Benchmarking itertools\n",
    "start_time = time.time()\n",
    "li = list(itertools.islice(itertools.count(start=10000000, step=-1),1))\n",
    "itertools_time2 = time.time() - start_time\n",
    "\n",
    "# Display the results\n",
    "print(f\"itertools time: {itertools_time:.6f} seconds\")\n",
    "print(f\"itertools time 2: {itertools_time2:.6f} seconds\")\n",
    "print(f\"range loops time: {range_time:.6f} seconds\")"
   ]
  },
  {
   "cell_type": "markdown",
   "id": "9e851b92-f45d-435b-9807-d80c283e87e2",
   "metadata": {},
   "source": [
    "## itertools.chain (p, q, …)\n",
    "iterates over p0, p1, … plast, q0, q1, …"
   ]
  },
  {
   "cell_type": "code",
   "execution_count": null,
   "id": "d1bc206c-96f5-42a5-a168-94c8b0b8c3b5",
   "metadata": {},
   "outputs": [],
   "source": [
    "import itertools\n",
    "\n",
    "list1 = [1, 2, 3]\n",
    "tuple1 = (4, 5, 6)\n",
    "string1 = \"789\"\n",
    "\n",
    "for item in itertools.chain(list1, tuple1, string1):\n",
    "    print(item)"
   ]
  },
  {
   "cell_type": "markdown",
   "id": "d82d9b37-0cc3-4577-b477-08ab5513918c",
   "metadata": {},
   "source": [
    "## itertools.cycle (p)\n",
    "enumerates p0, p1, … plast, p0, p1, …\n",
    "## itertools.repeat (e,n)\n",
    "enumerate element e n times\n",
    "## itertools.chain_from_iterable (p)\n",
    "enumerate all elements of p (also enumerable)"
   ]
  },
  {
   "cell_type": "code",
   "execution_count": null,
   "id": "162fd2db-9195-43cf-9e38-bf2d89d7d57a",
   "metadata": {},
   "outputs": [],
   "source": [
    "import itertools\n",
    "\n",
    "l = [1, 2, 3, 4, 5, 6, 7, 8, 9]\n",
    "\n",
    "# Infinite loop\n",
    "#for item in itertools.cycle(l,10):\n",
    "#    print(item)\n",
    "    \n",
    "for item in itertools.chain.from_iterable(itertools.repeat(l,10)):\n",
    "    print(item)"
   ]
  },
  {
   "cell_type": "markdown",
   "id": "eaf39c0b-a70d-49de-8ba3-4bac21e1be36",
   "metadata": {},
   "source": [
    "## itertools.filterfalse (predicate, seq)\n",
    "enumerate elements that invalidate predicate"
   ]
  },
  {
   "cell_type": "code",
   "execution_count": null,
   "id": "f4efa7be-8a7e-4f87-b4cf-9eabe8ce949c",
   "metadata": {},
   "outputs": [],
   "source": [
    "import itertools\n",
    "\n",
    "l = [1, 2, 3, 4, 5, 6, 7, 8, 9]\n",
    "\n",
    "# Infinite loop\n",
    "#for item in itertools.cycle(l,10):\n",
    "#    print(item)\n",
    "seq = itertools.chain.from_iterable(itertools.repeat(l,10))    \n",
    "for item in itertools.filterfalse(lambda x: x < 5, seq):\n",
    "    print(item)"
   ]
  },
  {
   "cell_type": "code",
   "execution_count": null,
   "id": "2695ab15-e540-4303-8557-ee8b0d9077e9",
   "metadata": {},
   "outputs": [],
   "source": [
    "import itertools\n",
    "import time\n",
    "\n",
    "l = [1, 2, 3, 4, 5, 6, 7, 8, 9]\n",
    "\n",
    "# Benchmarking range\n",
    "start_time = time.time()\n",
    "lr = []\n",
    "for i in range(1000000):\n",
    "    for j in l:\n",
    "        if j > 4:\n",
    "            lr.append(j)\n",
    "range_time = time.time() - start_time\n",
    "\n",
    "# Benchmarking itertools\n",
    "start_time = time.time()\n",
    "li = []\n",
    "for i in itertools.filterfalse(lambda x: x < 5, itertools.chain.from_iterable(itertools.repeat(l,1000000))):\n",
    "    li.append(i)\n",
    "itertools_time = time.time() - start_time\n",
    "\n",
    "# Benchmarking itertools 2\n",
    "start_time = time.time()\n",
    "li = []\n",
    "for i in itertools.filterfalse(lambda x: x < 5, itertools.islice(itertools.cycle(l),1000000*len(l))):\n",
    "    li.append(i)\n",
    "itertools_time2 = time.time() - start_time\n",
    "\n",
    "# Benchmarking itertools 3\n",
    "start_time = time.time()\n",
    "li = list(itertools.filterfalse(lambda x: x < 5, itertools.islice(itertools.cycle(l),1000000*len(l))))\n",
    "itertools_time3 = time.time() - start_time\n",
    "\n",
    "# Display the results\n",
    "print(f\"itertools time: {itertools_time:.6f} seconds\")\n",
    "print(f\"itertools time 2: {itertools_time2:.6f} seconds\")\n",
    "print(f\"itertools time 3: {itertools_time3:.6f} seconds\")\n",
    "print(f\"range loops time: {range_time:.6f} seconds\")"
   ]
  },
  {
   "cell_type": "markdown",
   "id": "6fd6ff7d-d336-492f-bae8-0c37eaa29ded",
   "metadata": {},
   "source": [
    "## itertools.groupby(iterable[, key])\n",
    "returns sub-iterators grouped by value of key(v)"
   ]
  },
  {
   "cell_type": "code",
   "execution_count": null,
   "id": "d15263f1-665b-4ddc-9fc2-99b99a3c0a52",
   "metadata": {},
   "outputs": [],
   "source": [
    "import itertools\n",
    "\n",
    "data = [1, 1, 2, 2, 3, 3, 3]\n",
    "grouped = itertools.groupby(data)\n",
    "\n",
    "for key, group in grouped:\n",
    "    print(f\"Key: {key}, Group: {list(group)}\")"
   ]
  },
  {
   "cell_type": "code",
   "execution_count": null,
   "id": "160f0e62-1b93-442d-867f-690340ff8120",
   "metadata": {},
   "outputs": [],
   "source": [
    "import itertools\n",
    "\n",
    "data = ['apple', 'banana', 'cherry', 'date', 'fig', 'grape']\n",
    "grouped = itertools.groupby(data, key=len)\n",
    "\n",
    "for key, group in grouped:\n",
    "    print(f\"Length: {key}, Group: {list(group)}\")"
   ]
  },
  {
   "cell_type": "code",
   "execution_count": null,
   "id": "4cc0af8c-1852-4da5-abe7-9c66cccb85ff",
   "metadata": {},
   "outputs": [],
   "source": [
    "import itertools\n",
    "\n",
    "data = ['apple', 'apricot', 'banana', 'blueberry', 'cherry', 'date']\n",
    "grouped = itertools.groupby(data, key=lambda x: x[0])\n",
    "\n",
    "for key, group in grouped:\n",
    "    print(f\"First Letter: {key}, Group: {list(group)}\")"
   ]
  },
  {
   "cell_type": "code",
   "execution_count": null,
   "id": "5c7852d5-d608-457f-9f04-ecf8adbf1c1d",
   "metadata": {},
   "outputs": [],
   "source": [
    "import itertools\n",
    "\n",
    "data = [1, 2, 3, 4, 5, 6, 7, 8]\n",
    "grouped = itertools.groupby(data, key=lambda x: 'Even' if x % 2 else \"Odd\" )\n",
    "\n",
    "print(grouped)\n",
    "\n",
    "for key, group in grouped:\n",
    "    print(f\"{key}, Group: {list(group)}\")"
   ]
  },
  {
   "cell_type": "code",
   "execution_count": null,
   "id": "30d7a120-460c-4b30-9498-42223d9d301d",
   "metadata": {},
   "outputs": [],
   "source": [
    "import itertools\n",
    "\n",
    "data = ['apple', 'banana', 'apricot', 'blueberry', 'cherry', 'date']\n",
    "grouped = itertools.groupby(data, key=lambda x: x[0])\n",
    "\n",
    "for key, group in grouped:\n",
    "    print(f\"First Letter: {key}, Group: {list(group)}\")"
   ]
  },
  {
   "cell_type": "markdown",
   "id": "5efad38e-15ff-4044-8b6c-4570388b70aa",
   "metadata": {},
   "source": [
    "Data should be sorted (according to the same key) before goruping!"
   ]
  },
  {
   "cell_type": "code",
   "execution_count": null,
   "id": "dbef36fd-abed-4130-b666-dc32e5eef8d9",
   "metadata": {},
   "outputs": [],
   "source": [
    "import itertools\n",
    "\n",
    "data = [1, 2, 3, 4, 5, 6, 7, 8]\n",
    "sorted_data = sorted(data, key=lambda x: 'Odd' if x % 2 else \"Even\") \n",
    "grouped = itertools.groupby(sorted_data, key=lambda x: 'Odd' if x % 2 else \"Even\" )\n",
    "\n",
    "for key, group in grouped:\n",
    "    print(f\"{key}, Group: {list(group)}\")\n",
    "\n",
    "data = ['apple', 'banana', 'apricot', 'blueberry', 'cherry', 'date']\n",
    "sorted_data = sorted(data, key=lambda x: x[0])\n",
    "grouped = itertools.groupby(sorted_data, key=lambda x: x[0])\n",
    "\n",
    "for key, group in grouped:\n",
    "    print(f\"First Letter: {key}, Group: {list(group)}\")"
   ]
  },
  {
   "cell_type": "markdown",
   "id": "48985733-d1fa-4ae7-81ed-ddb1de1a6058",
   "metadata": {},
   "source": [
    "## itertools.combinations(items,n)\n",
    "generates all subsets of n elements of items"
   ]
  },
  {
   "cell_type": "code",
   "execution_count": null,
   "id": "b40e4403-ea78-4c81-83fb-e7ef1bd02a2d",
   "metadata": {},
   "outputs": [],
   "source": [
    "import itertools\n",
    "\n",
    "# List of items\n",
    "items = ['A', 'B', 'C', 'D']\n",
    "\n",
    "# Generate all possible pairs\n",
    "pairs = list(itertools.combinations(items, 2))\n",
    "\n",
    "print(\"All possible pairs:\", pairs)"
   ]
  },
  {
   "cell_type": "code",
   "execution_count": null,
   "id": "c74e4d66-c0e0-4921-abaa-1b1dd71b1730",
   "metadata": {},
   "outputs": [],
   "source": [
    "import itertools\n",
    "import time\n",
    "\n",
    "# Define the elements\n",
    "elements = 'ABCDEFGHIJKLMNOPQRSTUVWXYZ'\n",
    "\n",
    "# Benchmarking itertools.combinations\n",
    "start_time = time.time()\n",
    "itertools_combinations = list(itertools.combinations(elements, 3))\n",
    "itertools_time = time.time() - start_time\n",
    "\n",
    "# Benchmarking nested loops\n",
    "start_time = time.time()\n",
    "nested_combinations = []\n",
    "for i in range(len(elements)):\n",
    "    for j in range(i + 1, len(elements)):\n",
    "        for k in range(j + 1, len(elements)):\n",
    "            nested_combinations.append((elements[i], elements[j], elements[k]))\n",
    "nested_time = time.time() - start_time\n",
    "\n",
    "# Display the results\n",
    "print(f\"itertools.combinations time: {itertools_time:.6f} seconds\")\n",
    "print(f\"nested loops time: {nested_time:.6f} seconds\")"
   ]
  },
  {
   "cell_type": "code",
   "execution_count": null,
   "id": "db4d1342-8c5a-45a4-aa4c-7e51b7503cc4",
   "metadata": {},
   "outputs": [],
   "source": [
    "import itertools\n",
    "import time\n",
    "\n",
    "# Define the elements\n",
    "elements = 'ABCDEFGHIJKLMNOPQRSTUVWXYZ'\n",
    "\n",
    "# Benchmarking itertools.combinations\n",
    "start_time = time.time()\n",
    "itertools_combinations = list(itertools.combinations(elements, 6))\n",
    "itertools_time = time.time() - start_time\n",
    "\n",
    "# Benchmarking nested loops\n",
    "start_time = time.time()\n",
    "nested_combinations = []\n",
    "for i in range(len(elements)):\n",
    "    for j in range(i + 1, len(elements)):\n",
    "        for k in range(j + 1, len(elements)):\n",
    "            for l in range(k + 1, len(elements)):\n",
    "                for m in range(l + 1, len(elements)):\n",
    "                    for n in range(m + 1, len(elements)):\n",
    "                        nested_combinations.append((elements[i], elements[j], elements[k], elements[l], elements[m], elements[n]))\n",
    "nested_time = time.time() - start_time\n",
    "\n",
    "# Display the results\n",
    "print(f\"itertools.combinations time: {itertools_time:.6f} seconds\")\n",
    "print(f\"nested loops time: {nested_time:.6f} seconds\")"
   ]
  },
  {
   "cell_type": "markdown",
   "id": "b95febc9-75c4-49c7-ba30-d7162592c62d",
   "metadata": {},
   "source": [
    "## itertools.permutations (p[, r])\n",
    "generates all possible ordering of subsets of size r"
   ]
  },
  {
   "cell_type": "code",
   "execution_count": null,
   "id": "5c951f31-d6eb-4c10-83a2-70b6750b00f9",
   "metadata": {},
   "outputs": [],
   "source": [
    "import itertools\n",
    "\n",
    "# List of items\n",
    "items = ['X', 'Y', 'Z']\n",
    "\n",
    "# Generate all possible orderings\n",
    "orderings = list(itertools.permutations(items))\n",
    "\n",
    "print(\"All possible orderings:\", orderings)"
   ]
  },
  {
   "cell_type": "code",
   "execution_count": null,
   "id": "3c29539b-8295-46b2-856c-e2ea54c339a6",
   "metadata": {},
   "outputs": [],
   "source": [
    "import itertools\n",
    "import time\n",
    "\n",
    "# Define the elements\n",
    "elements = 'ABCDEFGHIJKLMNOPQRSTUVWXYZ'\n",
    "\n",
    "# Benchmarking itertools.permutations\n",
    "start_time = time.time()\n",
    "itertools_permutations = list(itertools.permutations(elements, 3))\n",
    "itertools_time = time.time() - start_time\n",
    "\n",
    "# Benchmarking nested loops\n",
    "start_time = time.time()\n",
    "nested_permutations = []\n",
    "for a in elements:\n",
    "    for b in elements:\n",
    "        if b != a:\n",
    "            for c in elements:\n",
    "                if c != a and c != b:\n",
    "                    nested_permutations.append((a, b, c))\n",
    "nested_time = time.time() - start_time\n",
    "\n",
    "# Display the results\n",
    "print(f\"itertools.permutations time: {itertools_time:.6f} seconds\")\n",
    "print(f\"nested loops time: {nested_time:.6f} seconds\")"
   ]
  },
  {
   "cell_type": "markdown",
   "id": "3191ceaf-681f-426e-9a04-1d80f1dbb88c",
   "metadata": {},
   "source": [
    "## Warning : may take 1:30 min"
   ]
  },
  {
   "cell_type": "raw",
   "id": "c40398cc-13c7-416f-b57c-f5904fc2ccf6",
   "metadata": {},
   "source": [
    "import itertools\n",
    "import time\n",
    "\n",
    "# Define the elements\n",
    "elements = 'ABCDEFGHIJKLMNOPQRSTUVWXYZ'\n",
    "\n",
    "# Benchmarking itertools.permutations\n",
    "start_time = time.time()\n",
    "itertools_permutations = list(itertools.permutations(elements, 6))\n",
    "itertools_time = time.time() - start_time\n",
    "\n",
    "# Benchmarking nested loops\n",
    "start_time = time.time()\n",
    "nested_permutations = []\n",
    "for a in elements:\n",
    "    for b in elements:\n",
    "        if b != a:\n",
    "            for c in elements:\n",
    "                if c != a and c != b:\n",
    "                    for d in elements:\n",
    "                        if d != a and d != b and d != c:\n",
    "                            for e in elements:\n",
    "                                if e != a and e != b and e != c and e != d:\n",
    "                                    for f in elements:\n",
    "                                        if f != a and f != b and f != c and f != d and f != e:\n",
    "                                            nested_permutations.append((a, b, c, d, e, f))\n",
    "nested_time = time.time() - start_time\n",
    "\n",
    "# Display the results\n",
    "print(f\"itertools.permutations time: {itertools_time:.6f} seconds\")\n",
    "print(f\"nested loops time: {nested_time:.6f} seconds\")"
   ]
  },
  {
   "cell_type": "markdown",
   "id": "4f0c6506-ff04-4610-8045-b34fbff09d87",
   "metadata": {},
   "source": [
    "## itertools.product(p, q, … [repeat=1])\n",
    "Generates the cartesian product of lists p, q,... \n",
    "repeat permits to duplicate input lists"
   ]
  },
  {
   "cell_type": "code",
   "execution_count": null,
   "id": "6a6a29ca-649a-4219-8887-7d548505dfcf",
   "metadata": {},
   "outputs": [],
   "source": [
    "import itertools\n",
    "\n",
    "# Two lists\n",
    "list1 = ['A', 'B']\n",
    "list2 = [1, 2]\n",
    "\n",
    "# Generate Cartesian product\n",
    "cartesian_product = list(itertools.product(list1, list2))\n",
    "\n",
    "print(\"Cartesian product:\", cartesian_product)"
   ]
  },
  {
   "cell_type": "code",
   "execution_count": null,
   "id": "36344ec1-3704-4d3a-9b8a-99a9ff85b483",
   "metadata": {},
   "outputs": [],
   "source": [
    "import itertools\n",
    "import time\n",
    "\n",
    "# Define the elements\n",
    "elements = 'ABCDEFGHIJKLMNOPQRSTUVWXYZ'\n",
    "\n",
    "# Benchmarking itertools\n",
    "start_time = time.time()\n",
    "itertools_combinations = list(itertools.product(elements, repeat=3))\n",
    "itertools_time = time.time() - start_time\n",
    "\n",
    "# Benchmarking nested loops\n",
    "start_time = time.time()\n",
    "nested_combinations = []\n",
    "for a in elements:\n",
    "    for b in elements:\n",
    "        for c in elements:\n",
    "            nested_combinations.append((a, b, c))\n",
    "nested_time = time.time() - start_time\n",
    "\n",
    "# Display the results\n",
    "print(f\"itertools time: {itertools_time:.6f} seconds\")\n",
    "print(f\"nested loops time: {nested_time:.6f} seconds\")"
   ]
  },
  {
   "cell_type": "markdown",
   "id": "8cb604e9-cab7-4169-b79d-e20e65407287",
   "metadata": {},
   "source": [
    "## itertools strengths\n",
    "- Memory Efficiency: works with iterators, so it doesn't load all data into memory at once\n",
    "- Code Simplicity: it provides concise and readable solutions for complex iteration tasks\n",
    "- Performance: often faster than handmade code"
   ]
  },
  {
   "cell_type": "markdown",
   "id": "21de959e-0bbc-47ef-baf8-7936a5b9f071",
   "metadata": {},
   "source": [
    "## Exercise\n",
    "A company requests users to create passwords with:\n",
    "- at least one uppercase letter\n",
    "- at least 4 lowercase letters, all different\n",
    "- at least 2 digits\n",
    "- at least one special character among \"+\" \"-\" \"=\" \"_\" \"@\" \"#\"\n",
    "\n",
    "Write a program that enumerates all such passwords, assuming the user satisfies requests as quickly as possible.\n",
    "\n",
    "Is it better or worse than a passowrd with no constraints?"
   ]
  },
  {
   "cell_type": "code",
   "execution_count": null,
   "id": "897a7645-7db3-41ec-8038-a99977ef9045",
   "metadata": {},
   "outputs": [],
   "source": []
  },
  {
   "cell_type": "markdown",
   "id": "2169c0ad-7088-4d3a-9f35-ff7996c5e80c",
   "metadata": {},
   "source": [
    "# joblib\n",
    "The joblib library in Python is a powerful tool for parallel computing, caching, and efficient serialization of large data objects."
   ]
  },
  {
   "cell_type": "code",
   "execution_count": null,
   "id": "b38d06d2-4d07-49fc-86a6-49df2a565e7b",
   "metadata": {},
   "outputs": [],
   "source": [
    "import joblib\n",
    "import math\n",
    "\n",
    "joblib.Parallel(n_jobs=-1)(joblib.delayed(math.sqrt)(i**2) for i in range(10))"
   ]
  },
  {
   "cell_type": "code",
   "execution_count": null,
   "id": "522d4129-42db-42c2-a1cb-b896130db4e4",
   "metadata": {},
   "outputs": [],
   "source": [
    "from joblib import Parallel, delayed\n",
    "import time\n",
    "\n",
    "# A function that simulates a time-consuming task\n",
    "def process_item(item):\n",
    "    time.sleep(1)  # Simulate a 1-second task\n",
    "    return item ** 2\n",
    "\n",
    "# List of items to process\n",
    "items = list(range(10))\n",
    "\n",
    "# Process items in parallel using all available CPU cores\n",
    "results = Parallel(n_jobs=-1)(delayed(process_item)(item) for item in items)\n",
    "\n",
    "print(\"Processed results:\", results)"
   ]
  },
  {
   "cell_type": "raw",
   "id": "1d4f312d-fc0f-4faa-bc5b-dfa0f7cc581f",
   "metadata": {},
   "source": [
    "import time\n",
    "from joblib import Parallel, delayed\n",
    "\n",
    "# A simple function to compute the square of a number\n",
    "def square(x):\n",
    "    time.sleep(1)\n",
    "    return x * x\n",
    "\n",
    "# Create a large list of numbers\n",
    "data = list(range(10))\n",
    "\n",
    "# Benchmarking function\n",
    "def benchmark_joblib(backend, n_jobs):\n",
    "    start_time = time.time()\n",
    "    results = Parallel(n_jobs=n_jobs, backend=backend)(delayed(square)(i) for i in data)\n",
    "    elapsed_time = time.time() - start_time\n",
    "    return elapsed_time\n",
    "\n",
    "# Number of parallel jobs\n",
    "n_jobs = 4\n",
    "\n",
    "# Benchmark with threads\n",
    "threads_time = benchmark_joblib(backend='threading', n_jobs=n_jobs)\n",
    "print(f\"Threads - Elapsed time: {threads_time:.4f}s\")\n",
    "\n",
    "# Benchmark with processes\n",
    "processes_time = benchmark_joblib(backend='multiprocessing', n_jobs=n_jobs)\n",
    "print(f\"Processes - Elapsed time: {processes_time:.4f}s\")"
   ]
  },
  {
   "cell_type": "markdown",
   "id": "42b2dfc5-dd2f-4d6d-af8d-a2aeb57959b4",
   "metadata": {},
   "source": [
    "## joblib Memory Caching\n",
    "Caching Expensive Function Calls with Memory"
   ]
  },
  {
   "cell_type": "code",
   "execution_count": null,
   "id": "b472c12b-9f45-44cf-b567-68b016979c52",
   "metadata": {},
   "outputs": [],
   "source": [
    "from joblib import Memory\n",
    "\n",
    "# Create a cache directory\n",
    "cachedir = './cache'\n",
    "memory = Memory(cachedir, verbose=0)\n",
    "\n",
    "# A function that simulates an expensive computation\n",
    "@memory.cache\n",
    "def expensive_computation(x):\n",
    "    print(f\"Computing {x}...\")  # This will only print once per unique input\n",
    "    return x ** 2\n",
    "\n",
    "# Call the function multiple times\n",
    "print(expensive_computation(5))  # Computes and caches the result\n",
    "print(expensive_computation(5))  # Retrieves the result from cache\n",
    "print(expensive_computation(10))  # Computes and caches a new result"
   ]
  },
  {
   "cell_type": "code",
   "execution_count": null,
   "id": "bcb9151a-2000-4061-a55c-81f934a9a355",
   "metadata": {},
   "outputs": [],
   "source": [
    "from joblib import Memory\n",
    "\n",
    "def fibonacci_iterative(n):\n",
    "    a, b = 0, 1\n",
    "    for _ in range(n):\n",
    "        a, b = b, a + b\n",
    "    return a\n",
    "\n",
    "def fibonacci_recursive(n):\n",
    "    if n <= 1:\n",
    "        return n\n",
    "    else:\n",
    "        return fibonacci_recursive(n-1) + fibonacci_recursive(n-2)\n",
    "\n",
    "print(fibonacci_iterative(10))\n",
    "print(fibonacci_recursive(10))"
   ]
  },
  {
   "cell_type": "code",
   "execution_count": null,
   "id": "ad509245-35fd-4643-ac17-9e8f01cbe4d9",
   "metadata": {},
   "outputs": [],
   "source": [
    "from joblib import Memory\n",
    "\n",
    "# Create a cache directory\n",
    "cachedir = './cache'\n",
    "memory = Memory(cachedir, verbose=0)\n",
    "\n",
    "def fibonacci_iterative(n):\n",
    "    a, b = 0, 1\n",
    "    for _ in range(n):\n",
    "        a, b = b, a + b\n",
    "    return a\n",
    "\n",
    "@memory.cache\n",
    "def fibonacci_recursive(n):\n",
    "    if n <= 1:\n",
    "        return n\n",
    "    else:\n",
    "        return fibonacci_recursive(n-1) + fibonacci_recursive(n-2)\n",
    "\n",
    "print(fibonacci_iterative(10))\n",
    "print(fibonacci_recursive(10))"
   ]
  },
  {
   "cell_type": "markdown",
   "id": "2acacf19-7ba8-457a-9296-4934a92364ed",
   "metadata": {},
   "source": [
    "## joblib Serialization of Large Data Objects"
   ]
  },
  {
   "cell_type": "code",
   "execution_count": null,
   "id": "03388a50-de2c-482f-9829-c81b11b7f8c2",
   "metadata": {},
   "outputs": [],
   "source": [
    "import numpy as np\n",
    "from joblib import dump, load\n",
    "\n",
    "# Create a large NumPy array\n",
    "large_array = np.random.rand(1000, 1000)\n",
    "\n",
    "# Save the array to disk\n",
    "dump(large_array, 'large_array.joblib')\n",
    "\n",
    "# Load the array from disk\n",
    "loaded_array = load('large_array.joblib')\n",
    "\n",
    "print(\"Array matches:\", np.array_equal(large_array, loaded_array))"
   ]
  },
  {
   "cell_type": "code",
   "execution_count": null,
   "id": "f3d427c4-a648-4ce0-b375-83a23e01ae6c",
   "metadata": {},
   "outputs": [],
   "source": [
    "import time\n",
    "import pickle\n",
    "import joblib\n",
    "import numpy as np\n",
    "\n",
    "# Create a large numpy array as the sample object\n",
    "large_array = np.random.random((1000, 1000))\n",
    "\n",
    "# Function to measure the time taken to dump and load using pickle\n",
    "def benchmark_pickle(obj):\n",
    "    start_time = time.time()\n",
    "    with open('large_array.pkl', 'wb') as file:\n",
    "        pickle.dump(obj, file)\n",
    "    dump_time = time.time() - start_time\n",
    "\n",
    "    start_time = time.time()\n",
    "    with open('large_array.pkl', 'rb') as file:\n",
    "        obj_loaded = pickle.load(file)\n",
    "    load_time = time.time() - start_time\n",
    "\n",
    "    return dump_time, load_time\n",
    "\n",
    "# Function to measure the time taken to dump and load using joblib\n",
    "def benchmark_joblib(obj):\n",
    "    start_time = time.time()\n",
    "    joblib.dump(obj, 'large_array.joblib')\n",
    "    dump_time = time.time() - start_time\n",
    "\n",
    "    start_time = time.time()\n",
    "    obj_loaded = joblib.load('large_array.joblib')\n",
    "    load_time = time.time() - start_time\n",
    "\n",
    "    return dump_time, load_time\n",
    "\n",
    "# Benchmarking\n",
    "pickle_times = benchmark_pickle(large_array)\n",
    "joblib_times = benchmark_joblib(large_array)\n",
    "\n",
    "print(f\"Pickle - Dump time: {pickle_times[0]:.4f}s, Load time: {pickle_times[1]:.4f}s\")\n",
    "print(f\"Joblib - Dump time: {joblib_times[0]:.4f}s, Load time: {joblib_times[1]:.4f}s\")"
   ]
  },
  {
   "cell_type": "markdown",
   "id": "92cc3990-3a28-4a4b-8582-01a8b7ad5ed4",
   "metadata": {},
   "source": [
    "## joblib strengths\n",
    "- Parallel Computing: Simplifies parallel execution of tasks, leveraging multiple CPU cores.\n",
    "- Caching: Avoids redundant computations by caching function results.\n",
    "- Serialization: Optimized for large data objects.\n",
    "- Simple and intuitive API"
   ]
  },
  {
   "cell_type": "markdown",
   "id": "d79432a2-7501-4372-88cd-be429a8130fc",
   "metadata": {},
   "source": [
    "# Combining itertools (for efficient iteration) with joblib (for parallel computing and caching) "
   ]
  },
  {
   "cell_type": "markdown",
   "id": "5e4462d1-fd0e-4cc5-976e-a067ec7c827c",
   "metadata": {},
   "source": [
    "## Use Case 1\n",
    "Generate all possible pairs from a large dataset and process them in parallel.\n",
    "- itertools generates combinations.\n",
    "- joblib parallelizes the processing."
   ]
  },
  {
   "cell_type": "code",
   "execution_count": null,
   "id": "c1b0216e-e40a-4f39-a210-28c9378f3790",
   "metadata": {},
   "outputs": [],
   "source": [
    "from itertools import combinations\n",
    "from joblib import Parallel, delayed\n",
    "\n",
    "def process_pair(pair):\n",
    "    return sum(pair)\n",
    "\n",
    "# Large dataset\n",
    "data = list(range(1000))\n",
    "\n",
    "# Generate all possible pairs using itertools\n",
    "pairs = combinations(data, 2)\n",
    "\n",
    "# Process pairs in parallel using all CPU cores\n",
    "results = Parallel(n_jobs=-1)(delayed(process_pair)(pair) for pair in pairs)\n",
    "\n",
    "print(f\"Processed {len(results)} pairs in parallel.\")"
   ]
  },
  {
   "cell_type": "markdown",
   "id": "aaebdc8c-9c50-4328-865a-39623fc4ee83",
   "metadata": {},
   "source": [
    "## Use Case 2\n",
    "Cache results of expensive permutation-based calculations (e.g., simulations or brute-force searches).\n",
    "- itertools generates permutations.\n",
    "- joblib caches results to avoid recomputation."
   ]
  },
  {
   "cell_type": "code",
   "execution_count": null,
   "id": "f75f9159-487d-49d6-8bba-29c4659b3615",
   "metadata": {},
   "outputs": [],
   "source": [
    "from itertools import permutations\n",
    "from joblib import Memory\n",
    "\n",
    "# Create a cache directory\n",
    "memory = Memory(\"./cache_dir\", verbose=0)\n",
    "\n",
    "@memory.cache\n",
    "def evaluate_permutation(perm):\n",
    "    # Expensive computation (e.g., fitness evaluation)\n",
    "    return sum(perm) ** 2\n",
    "\n",
    "# Generate permutations of a sequence\n",
    "sequence = [1, 2, 3, 4]\n",
    "perms = permutations(sequence, 2)\n",
    "\n",
    "# Evaluate permutations and cache results\n",
    "results = [evaluate_permutation(p) for p in perms]\n",
    "\n",
    "print(f\"Evaluated permutations: {results}\")"
   ]
  },
  {
   "cell_type": "markdown",
   "id": "31cbd69c-c177-453c-b75a-c0ef966f90d0",
   "metadata": {},
   "source": [
    "## Use case 3\n",
    "Process an infinite sequence in batches (e.g., streaming data).\n",
    "- itertools.islice chunks the sequence into batches.\n",
    "- joblib processes batches in parallel."
   ]
  },
  {
   "cell_type": "code",
   "execution_count": null,
   "id": "aed73ef1-f171-4008-88dd-e64d5c7a8984",
   "metadata": {},
   "outputs": [],
   "source": [
    "from itertools import islice, count\n",
    "from joblib import Parallel, delayed\n",
    "\n",
    "def process_batch(batch):\n",
    "    return sum(batch)  # Simulate batch processing\n",
    "\n",
    "# Infinite sequence (e.g., sensor data stream)\n",
    "infinite_stream = count(start=0, step=1)\n",
    "\n",
    "# Define batch size\n",
    "BATCH_SIZE = 1000\n",
    "\n",
    "# Process batches in parallel\n",
    "results = Parallel(n_jobs=-1)(\n",
    "    delayed(process_batch)(list(islice(infinite_stream, BATCH_SIZE)))\n",
    "    for _ in range(10)  # Process 10 batches\n",
    ")\n",
    "\n",
    "print(f\"Batch results: {results}\")"
   ]
  },
  {
   "cell_type": "markdown",
   "id": "36bbc678-c901-4856-bcb8-61cf36ce6347",
   "metadata": {},
   "source": [
    "## Use case 4\n",
    "\n",
    "Use Case: Grid search over hyperparameters using Cartesian products.\n",
    "- itertools.product generates all hyperparameter combinations.\n",
    "- joblib evaluates models in parallel."
   ]
  },
  {
   "cell_type": "code",
   "execution_count": null,
   "id": "f8a08561-1708-41d8-8f8d-c4f28a1bc75c",
   "metadata": {},
   "outputs": [],
   "source": [
    "from itertools import product\n",
    "from joblib import Parallel, delayed\n",
    "from sklearn.tree import DecisionTreeClassifier\n",
    "from sklearn.datasets import make_classification\n",
    "\n",
    "# Generate synthetic data\n",
    "X, y = make_classification(n_samples=1000, n_features=20)\n",
    "\n",
    "# Define hyperparameter grid\n",
    "param_grid = {\n",
    "    \"max_depth\": [3, 5, 7],\n",
    "    \"min_samples_split\": [2, 5, 10]\n",
    "}\n",
    "\n",
    "# Generate all parameter combinations\n",
    "param_combinations = product(param_grid[\"max_depth\"], param_grid[\"min_samples_split\"])\n",
    "\n",
    "def train_model(max_depth, min_samples_split):\n",
    "    model = DecisionTreeClassifier(max_depth=max_depth, min_samples_split=min_samples_split)\n",
    "    model.fit(X, y)\n",
    "    return [(max_depth, min_samples_split), model.score(X, y)]\n",
    "\n",
    "# Parallelize model training\n",
    "scores = Parallel(n_jobs=-1)(\n",
    "    delayed(train_model)(depth, split) for depth, split in param_combinations\n",
    ")\n",
    "\n",
    "sorted_scores = sorted(scores,key=lambda x: x[1])\n",
    "print(f\"Model scores: {sorted_scores}\")"
   ]
  },
  {
   "cell_type": "code",
   "execution_count": null,
   "id": "b8d8ae3f-1cdd-4129-a5d0-aa6ab32f73c5",
   "metadata": {},
   "outputs": [],
   "source": []
  }
 ],
 "metadata": {
  "kernelspec": {
   "display_name": "Python 3 (ipykernel)",
   "language": "python",
   "name": "python3"
  },
  "language_info": {
   "codemirror_mode": {
    "name": "ipython",
    "version": 3
   },
   "file_extension": ".py",
   "mimetype": "text/x-python",
   "name": "python",
   "nbconvert_exporter": "python",
   "pygments_lexer": "ipython3",
   "version": "3.8.19"
  }
 },
 "nbformat": 4,
 "nbformat_minor": 5
}
