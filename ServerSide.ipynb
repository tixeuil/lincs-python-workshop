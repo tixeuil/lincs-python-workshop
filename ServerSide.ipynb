{
 "cells": [
  {
   "cell_type": "markdown",
   "metadata": {},
   "source": [
    "# Python sockets 101 - Server side\n",
    "- ## Sébastien Tixeuil\n",
    "- ## LINCS Python Workshop 14 December 2020"
   ]
  },
  {
   "cell_type": "markdown",
   "metadata": {},
   "source": [
    "# Source\n",
    "- <https://www.apress.com/gp/book/9781430258544>\n",
    "\n",
    "![](https://media.springernature.com/w153/springer-static/cover/book/9781430258551.jpg)"
   ]
  },
  {
   "cell_type": "markdown",
   "metadata": {},
   "source": [
    "# UDP Server (Python 2X)"
   ]
  },
  {
   "cell_type": "code",
   "execution_count": null,
   "metadata": {},
   "outputs": [],
   "source": [
    "from socket import *\n",
    "serverPort = 1235\n",
    "serverSocket = socket(AF_INET,SOCK_DGRAM)\n",
    "serverSocket.bind(('',serverPort))\n",
    "print('server ready')\n",
    "while True:\n",
    "    message, clientAddress = serverSocket.recvfrom(2048)\n",
    "    modifiedMessage = message.upper()\n",
    "    serverSocket.sendto(modifiedMessage,clientAddress)"
   ]
  },
  {
   "cell_type": "markdown",
   "metadata": {},
   "source": [
    "# UDP Server (Python 3X)"
   ]
  },
  {
   "cell_type": "code",
   "execution_count": null,
   "metadata": {},
   "outputs": [],
   "source": [
    "from socket import *\n",
    "serverPort = 1235\n",
    "serverSocket = socket(AF_INET,SOCK_DGRAM)\n",
    "serverSocket.bind(('',serverPort))\n",
    "print('server ready')\n",
    "while True:\n",
    "    message, clientAddress = serverSocket.recvfrom(2048)\n",
    "    modifiedMessage = message.decode('utf-8').upper()\n",
    "    print(modifiedMessage)\n",
    "    serverSocket.sendto(modifiedMessage.encode('utf-8'),clientAddress)"
   ]
  },
  {
   "cell_type": "markdown",
   "metadata": {},
   "source": [
    "# UDP Server (TTL Estimator)"
   ]
  },
  {
   "cell_type": "code",
   "execution_count": null,
   "metadata": {},
   "outputs": [],
   "source": [
    "from socket import *\n",
    "\n",
    "serverPort = 1234\n",
    "serverSocket = socket(AF_INET,SOCK_DGRAM)\n",
    "\n",
    "serverSocket.bind(('',serverPort))\n",
    "\n",
    "print('server ready')\n",
    "\n",
    "while True:\n",
    "    _, clientAddress = serverSocket.recvfrom(2048)\n",
    "    serverSocket.sendto(b'PONG',clientAddress)"
   ]
  },
  {
   "cell_type": "markdown",
   "metadata": {},
   "source": [
    "# TCP Server (Sequential)"
   ]
  },
  {
   "cell_type": "code",
   "execution_count": null,
   "metadata": {},
   "outputs": [],
   "source": [
    "from socket import *\n",
    "serverPort = 1235\n",
    "serverSocket = socket(AF_INET,SOCK_STREAM)\n",
    "serverSocket.setsockopt(SOL_SOCKET,SO_REUSEADDR,1)\n",
    "serverSocket.bind(('',serverPort))\n",
    "serverSocket.listen(1)\n",
    "print('server ready')\n",
    "while True:\n",
    "    connectionSocket, address = serverSocket.accept()\n",
    "    message = connectionSocket.recv(4096)\n",
    "    modifiedMessage = message.decode('utf-8').upper()\n",
    "    connectionSocket.send(modifiedMessage.encode('‘utf-8'))\n",
    "    connectionSocket.close()"
   ]
  },
  {
   "cell_type": "markdown",
   "metadata": {},
   "source": [
    "# IPv4 Names"
   ]
  },
  {
   "cell_type": "code",
   "execution_count": null,
   "metadata": {},
   "outputs": [],
   "source": [
    "from socket import *\n",
    "\n",
    "print(gethostname())\n",
    "\n",
    "print(getfqdn())\n",
    "\n",
    "print(gethostbyname('lip6.fr'))\n",
    "\n",
    "print(gethostbyaddr('132.227.104.15'))\n",
    "\n",
    "print(gethostbyname(getfqdn()))"
   ]
  },
  {
   "cell_type": "markdown",
   "metadata": {},
   "source": [
    "# IPv4/IPv6 Names"
   ]
  },
  {
   "cell_type": "code",
   "execution_count": null,
   "metadata": {},
   "outputs": [],
   "source": [
    "from socket import *\n",
    "\n",
    "infolist = getaddrinfo('lip6.fr','www')\n",
    "\n",
    "print(infolist)\n",
    "\n",
    "info = infolist[1]\n",
    "\n",
    "print(info)\n",
    "\n",
    "s = socket(*info[0:3])\n",
    "\n",
    "s.connect(info[4])\n",
    "\n",
    "s.close()\n",
    "\n",
    "infolist = getaddrinfo('google.fr','www')\n",
    "print(infolist)\n",
    "\n",
    "infolist = getaddrinfo('lincs.fr','www')\n",
    "print(infolist)"
   ]
  },
  {
   "cell_type": "markdown",
   "metadata": {},
   "source": [
    "# Byte Order over the Network"
   ]
  },
  {
   "cell_type": "code",
   "execution_count": null,
   "metadata": {},
   "outputs": [],
   "source": [
    "from struct import *\n",
    "\n",
    "print(hex(1234))\n",
    "\n",
    "print(pack('<i',1234))\n",
    "print(pack('>i',1234))\n",
    "print(pack('!i',1234))\n",
    "\n",
    "print(unpack('>i',b'\\x00\\x00\\x04\\xd2'))\n",
    "\n",
    "print(unpack('!i',b'\\x00\\x00\\x04\\xd2'))"
   ]
  },
  {
   "cell_type": "markdown",
   "metadata": {},
   "source": [
    "# Network Exceptions\n",
    "\n",
    "- `OSError`: almost every failure that can happen during a network connection\n",
    "- `socket.gaierror`: address-related error\n",
    "- `socket.timeout`: timeout expired"
   ]
  },
  {
   "cell_type": "code",
   "execution_count": null,
   "metadata": {},
   "outputs": [],
   "source": [
    "from socket import *\n",
    "\n",
    "try:\n",
    "    infolist = getaddrinfo('nonexistent.com','www')\n",
    "except gaierror:\n",
    "    print('This host does not seem to exist')"
   ]
  },
  {
   "cell_type": "markdown",
   "metadata": {},
   "source": [
    "# TCP Server with `recvall`"
   ]
  },
  {
   "cell_type": "code",
   "execution_count": null,
   "metadata": {},
   "outputs": [],
   "source": [
    "from struct import *\n",
    "from socket import *\n",
    "\n",
    "header_struct = Struct('!I')\n",
    "\n",
    "def recvall(sock, length):\n",
    "    blocks = []\n",
    "    while length:\n",
    "        block = sock.recv(length)\n",
    "        if not block:\n",
    "            raise EOFError('socket closed with %d bytes left'\n",
    "                           ' in this block'.format(length))\n",
    "        length -= len(block)\n",
    "        blocks.append(block)\n",
    "    return b''.join(blocks)\n",
    "\n",
    "def put_block(sock, message):\n",
    "    block_length = len(message)\n",
    "    sock.sendall(header_struct.pack(block_length))\n",
    "    sock.sendall(message)\n",
    "    \n",
    "def get_block(sock):\n",
    "    data = recvall(sock, header_struct.size)\n",
    "    (block_length,) = header_struct.unpack(data)\n",
    "    return recvall(sock, block_length)\n",
    "\n",
    "from socket import *\n",
    "serverPort = 1241\n",
    "serverSocket = socket(AF_INET,SOCK_STREAM)\n",
    "serverSocket.setsockopt(SOL_SOCKET,SO_REUSEADDR,1)\n",
    "serverSocket.bind(('',serverPort))\n",
    "serverSocket.listen(1)\n",
    "print('server ready')\n",
    "while True:\n",
    "    connectionSocket, address = serverSocket.accept()\n",
    "    message = get_block(connectionSocket)\n",
    "    modifiedMessage = message.decode('utf-8').upper()\n",
    "    put_block(connectionSocket,modifiedMessage.encode('‘utf-8'))\n",
    "    connectionSocket.close()"
   ]
  },
  {
   "cell_type": "markdown",
   "metadata": {},
   "source": [
    "# Sequential TCP Server (with Function)"
   ]
  },
  {
   "cell_type": "code",
   "execution_count": null,
   "metadata": {},
   "outputs": [],
   "source": [
    "from socket import *\n",
    "serverPort = 1234\n",
    "serverSocket = socket(AF_INET,SOCK_STREAM)\n",
    "serverSocket.setsockopt(SOL_SOCKET,SO_REUSEADDR,1)\n",
    "serverSocket.bind(('',serverPort))\n",
    "serverSocket.listen(1)\n",
    "print('server ready')\n",
    "\n",
    "def handle_client(clientSocket):\n",
    "    try:\n",
    "        while True:\n",
    "            received = clientSocket.recv(4096)\n",
    "            if not received:\n",
    "                clientSocket.close()\n",
    "            else:\n",
    "                to_send = received.decode('utf-8').upper().encode('utf-8')\n",
    "                clientSocket.sendall(to_send)\n",
    "    except OSError:\n",
    "        clientSocket.close()\n",
    "        \n",
    "while True:\n",
    "        connectionSocket, address = serverSocket.accept()\n",
    "        handle_client(connectionSocket)\n"
   ]
  },
  {
   "cell_type": "markdown",
   "metadata": {},
   "source": [
    "# The impact of `listen`"
   ]
  },
  {
   "cell_type": "code",
   "execution_count": null,
   "metadata": {},
   "outputs": [],
   "source": [
    "from socket import *\n",
    "serverPort = 1236\n",
    "serverSocket = socket(AF_INET,SOCK_STREAM)\n",
    "serverSocket.setsockopt(SOL_SOCKET,SO_REUSEADDR,1)\n",
    "serverSocket.bind(('',serverPort))\n",
    "serverSocket.listen(100)\n",
    "print('server ready')\n",
    "\n",
    "def handle_client(clientSocket):\n",
    "    try:\n",
    "        while True:\n",
    "            received = clientSocket.recv(4096)\n",
    "            if not received:\n",
    "                clientSocket.close()\n",
    "            else:\n",
    "                to_send = received.decode('utf-8').upper().encode('utf-8')\n",
    "                clientSocket.sendall(to_send)\n",
    "    except OSError:\n",
    "        clientSocket.close()\n",
    "        \n",
    "while True:\n",
    "        connectionSocket, address = serverSocket.accept()\n",
    "        handle_client(connectionSocket)"
   ]
  },
  {
   "cell_type": "markdown",
   "metadata": {},
   "source": [
    "# (Slow) Sequential TCP Server"
   ]
  },
  {
   "cell_type": "code",
   "execution_count": null,
   "metadata": {},
   "outputs": [],
   "source": [
    "from socket import *\n",
    "from time import *\n",
    "\n",
    "serverPort = 1237\n",
    "serverSocket = socket(AF_INET,SOCK_STREAM)\n",
    "serverSocket.setsockopt(SOL_SOCKET,SO_REUSEADDR,1)\n",
    "serverSocket.bind(('',serverPort))\n",
    "serverSocket.listen(100)\n",
    "print('server ready')\n",
    "\n",
    "def handle_client(clientSocket):\n",
    "    try:\n",
    "        while True:\n",
    "            received = clientSocket.recv(4096)\n",
    "            if not received:\n",
    "                clientSocket.close()\n",
    "            else:\n",
    "                sleep(5)\n",
    "                to_send = received.decode('utf-8').upper().encode('utf-8')\n",
    "                clientSocket.sendall(to_send)\n",
    "    except OSError:\n",
    "        clientSocket.close()\n",
    "        \n",
    "while True:\n",
    "        connectionSocket, address = serverSocket.accept()\n",
    "        handle_client(connectionSocket)\n"
   ]
  },
  {
   "cell_type": "markdown",
   "metadata": {},
   "source": [
    "# Multiplexing TCP server"
   ]
  },
  {
   "cell_type": "code",
   "execution_count": null,
   "metadata": {},
   "outputs": [],
   "source": [
    "from select import *\n",
    "from socket import *\n",
    "\n",
    "serverPort = 1236\n",
    "serverSocket = socket(AF_INET,SOCK_STREAM)\n",
    "serverSocket.bind(('',serverPort))\n",
    "serverSocket.listen(100)\n",
    "print('server ready')\n",
    "\n",
    "my_poll = poll()\n",
    "my_poll.register(serverSocket,POLLIN)\n",
    "\n",
    "sockets = {serverSocket.fileno(): serverSocket} \n",
    "# retrieve socket object from fileno\n",
    "received = dict()  \n",
    "# bytes received from fileno, that are not yet processed\n",
    "to_send = dict() \n",
    "# bytes to be sent from fileno, that have been processed\n",
    "\n",
    "while True:\n",
    "    for fd, event in my_poll.poll():\n",
    "        if event & (POLLHUP|POLLERR|POLLNVAL):\n",
    "            if fd in received:\n",
    "                received.pop(fd)\n",
    "            if fd in to_send:\n",
    "                to_send.pop(fd)\n",
    "            my_poll.unregister(fd)\n",
    "            del sockets[fd]\n",
    "            if fd in sockets:\n",
    "                sockets.pop(fd)\n",
    "        elif sockets[fd] is serverSocket:\n",
    "            connectionSocket, address = serverSocket.accept()\n",
    "            sockets[connectionSocket.fileno()] = connectionSocket\n",
    "            my_poll.register(connectionSocket, POLLIN)\n",
    "        else:\n",
    "            if event & POLLIN:\n",
    "                data = sockets[fd].recv(4096)\n",
    "                if not data:\n",
    "                    sockets[fd].close()\n",
    "                    continue\n",
    "                if fd in received:\n",
    "                    received[fd] += data\n",
    "                else:\n",
    "                    received[fd] = data\n",
    "                my_poll.modify(fd,POLLIN|POLLOUT)\n",
    "            if event & POLLOUT:\n",
    "                data = received.pop(fd).decode('utf-8')\n",
    "                data = data.upper().encode('utf-8')\n",
    "                if fd in to_send:\n",
    "                    data = to_send.pop(fd) + data\n",
    "                n = sockets[fd].send(data)\n",
    "                if n < len(data):\n",
    "                    to_send[fd] = data[n:]\n",
    "                else:\n",
    "                    my_poll.modify(fd,POLLIN)\n",
    "                                    "
   ]
  },
  {
   "cell_type": "markdown",
   "metadata": {},
   "source": [
    "# Multithread TCP Server (one thread per client)"
   ]
  },
  {
   "cell_type": "code",
   "execution_count": null,
   "metadata": {},
   "outputs": [],
   "source": [
    "from socket import *\n",
    "from time import *\n",
    "from threading import *\n",
    "\n",
    "serverPort = 1237\n",
    "serverSocket = socket(AF_INET,SOCK_STREAM)\n",
    "serverSocket.setsockopt(SOL_SOCKET,SO_REUSEADDR,1)\n",
    "serverSocket.bind(('',serverPort))\n",
    "serverSocket.listen(100)\n",
    "print('server ready')\n",
    "\n",
    "def handle_client(clientSocket):\n",
    "    try:\n",
    "        while True:\n",
    "            received = clientSocket.recv(4096)\n",
    "            if not received:\n",
    "                clientSocket.close()\n",
    "            else:\n",
    "                to_send = received.decode('utf-8').upper().encode('utf-8')\n",
    "                clientSocket.sendall(to_send)\n",
    "    except OSError:\n",
    "        clientSocket.close()\n",
    "        \n",
    "while True:\n",
    "    connectionSocket, address = serverSocket.accept()\n",
    "    Thread(target=handle_client,args=(connectionSocket,)).start()"
   ]
  },
  {
   "cell_type": "markdown",
   "metadata": {},
   "source": [
    "# Multithread TCP Server (one slow thread per client)"
   ]
  },
  {
   "cell_type": "code",
   "execution_count": null,
   "metadata": {},
   "outputs": [],
   "source": [
    "from socket import *\n",
    "from time import *\n",
    "from threading import *\n",
    "\n",
    "serverPort = 1238\n",
    "serverSocket = socket(AF_INET,SOCK_STREAM)\n",
    "serverSocket.setsockopt(SOL_SOCKET,SO_REUSEADDR,1)\n",
    "serverSocket.bind(('',serverPort))\n",
    "serverSocket.listen(100)\n",
    "print('server ready')\n",
    "\n",
    "def handle_client(clientSocket):\n",
    "    try:\n",
    "        while True:\n",
    "            received = clientSocket.recv(4096)\n",
    "            if not received:\n",
    "                clientSocket.close()\n",
    "            else:\n",
    "                sleep(5)\n",
    "                to_send = received.decode('utf-8').upper().encode('utf-8')\n",
    "                clientSocket.sendall(to_send)\n",
    "    except OSError:\n",
    "        clientSocket.close()\n",
    "        \n",
    "while True:\n",
    "    connectionSocket, address = serverSocket.accept()\n",
    "    Thread(target=handle_client,args=(connectionSocket,)).start()"
   ]
  },
  {
   "cell_type": "markdown",
   "metadata": {},
   "source": [
    "# Multithread TCP Server (pool of threads)"
   ]
  },
  {
   "cell_type": "code",
   "execution_count": null,
   "metadata": {},
   "outputs": [],
   "source": [
    "from socket import *\n",
    "from time import *\n",
    "from threading import *\n",
    "\n",
    "serverPort = 1239\n",
    "serverSocket = socket(AF_INET,SOCK_STREAM)\n",
    "serverSocket.setsockopt(SOL_SOCKET,SO_REUSEADDR,1)\n",
    "serverSocket.bind(('',serverPort))\n",
    "serverSocket.listen(100)\n",
    "print('server ready')\n",
    "\n",
    "def handle_client(listeningSocket):\n",
    "    try:\n",
    "        while True:\n",
    "            clientSocket, address = listeningSocket.accept()\n",
    "            received = clientSocket.recv(4096)\n",
    "            if not received:\n",
    "                clientSocket.close()\n",
    "            else:\n",
    "                to_send = received.decode('utf-8').upper().encode('utf-8')\n",
    "                clientSocket.sendall(to_send)\n",
    "    except OSError:\n",
    "        clientSocket.close()\n",
    "        \n",
    "for i in range(4):\n",
    "    Thread(target=handle_client,args=(serverSocket,)).start()"
   ]
  },
  {
   "cell_type": "markdown",
   "metadata": {},
   "source": [
    "# Multi-thread TCP Server (Pool of Threads) with timeout "
   ]
  },
  {
   "cell_type": "code",
   "execution_count": null,
   "metadata": {},
   "outputs": [],
   "source": [
    "from socket import *\n",
    "from time import *\n",
    "from threading import *\n",
    "\n",
    "serverPort = 1240\n",
    "serverSocket = socket(AF_INET,SOCK_STREAM)\n",
    "serverSocket.setsockopt(SOL_SOCKET,SO_REUSEADDR,1)\n",
    "serverSocket.settimeout(20)\n",
    "\n",
    "serverSocket.bind(('',serverPort))\n",
    "serverSocket.listen(100)\n",
    "print('server ready')\n",
    "\n",
    "def handle_client(listeningSocket):\n",
    "    try:\n",
    "        while True:\n",
    "            clientSocket, address = listeningSocket.accept()\n",
    "            received = clientSocket.recv(4096)\n",
    "            if not received:\n",
    "                clientSocket.close()\n",
    "            else:\n",
    "                to_send = received.decode('utf-8').upper().encode('utf-8')\n",
    "                clientSocket.sendall(to_send)\n",
    "    except timeout:\n",
    "        print(\"Socket timed out, exiting thread\")\n",
    "        clientSocket.close()\n",
    "    except OSError:\n",
    "        clientSocket.close()\n",
    "        \n",
    "for i in range(4):\n",
    "    Thread(target=handle_client,args=(serverSocket,)).start()"
   ]
  },
  {
   "cell_type": "markdown",
   "metadata": {},
   "source": [
    "# Multi-thread TCP Server (Pool of Slow Threads) with timeout"
   ]
  },
  {
   "cell_type": "code",
   "execution_count": null,
   "metadata": {},
   "outputs": [],
   "source": [
    "from socket import *\n",
    "from time import *\n",
    "from threading import *\n",
    "\n",
    "serverPort = 1241\n",
    "serverSocket = socket(AF_INET,SOCK_STREAM)\n",
    "serverSocket.setsockopt(SOL_SOCKET,SO_REUSEADDR,1)\n",
    "serverSocket.settimeout(20)\n",
    "\n",
    "serverSocket.bind(('',serverPort))\n",
    "serverSocket.listen(100)\n",
    "print('server ready')\n",
    "\n",
    "def handle_client(listeningSocket):\n",
    "    try:\n",
    "        while True:\n",
    "            clientSocket, address = listeningSocket.accept()\n",
    "            received = clientSocket.recv(4096)\n",
    "            if not received:\n",
    "                clientSocket.close()\n",
    "            else:\n",
    "                sleep(5)\n",
    "                to_send = received.decode('utf-8').upper().encode('utf-8')\n",
    "                clientSocket.sendall(to_send)\n",
    "    except timeout:\n",
    "        print(\"Socket timed out, exiting thread\")\n",
    "        clientSocket.close()\n",
    "    except OSError:\n",
    "        clientSocket.close()\n",
    "        \n",
    "for i in range(4):\n",
    "    Thread(target=handle_client,args=(serverSocket,)).start()"
   ]
  },
  {
   "cell_type": "code",
   "execution_count": null,
   "metadata": {},
   "outputs": [],
   "source": []
  }
 ],
 "metadata": {
  "kernelspec": {
   "display_name": "Python 3",
   "language": "python",
   "name": "python3"
  },
  "language_info": {
   "codemirror_mode": {
    "name": "ipython",
    "version": 3
   },
   "file_extension": ".py",
   "mimetype": "text/x-python",
   "name": "python",
   "nbconvert_exporter": "python",
   "pygments_lexer": "ipython3",
   "version": "3.8.5"
  }
 },
 "nbformat": 4,
 "nbformat_minor": 4
}
