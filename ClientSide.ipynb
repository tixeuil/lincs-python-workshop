{
 "cells": [
  {
   "cell_type": "markdown",
   "metadata": {},
   "source": [
    "# Python sockets 101 - Client side\n",
    "- ## Sébastien Tixeuil\n",
    "- ## LINCS Python Workshop 14 December 2020"
   ]
  },
  {
   "cell_type": "markdown",
   "metadata": {},
   "source": [
    "# Source\n",
    "- <https://www.apress.com/gp/book/9781430258544>\n",
    "\n",
    "![](https://media.springernature.com/w153/springer-static/cover/book/9781430258551.jpg)"
   ]
  },
  {
   "cell_type": "markdown",
   "metadata": {},
   "source": [
    "# UDP Client (Python 2X)"
   ]
  },
  {
   "cell_type": "code",
   "execution_count": null,
   "metadata": {},
   "outputs": [],
   "source": [
    "from socket import *\n",
    "serverName = '127.0.0.1'\n",
    "serverPort = 1235\n",
    "clientSocket = socket(AF_INET,SOCK_DGRAM)\n",
    "message = input('lowercase sentence:')\n",
    "clientSocket.sendto(message,(serverName,serverPort))\n",
    "modifiedMessage, serverAddress = clientSocket.recvfrom(2048)\n",
    "print(modifiedMessage)\n",
    "clientSocket.close()"
   ]
  },
  {
   "cell_type": "markdown",
   "metadata": {},
   "source": [
    "# UDP Client (Python 3X)"
   ]
  },
  {
   "cell_type": "code",
   "execution_count": null,
   "metadata": {},
   "outputs": [],
   "source": [
    "from socket import *\n",
    "serverName = '127.0.0.1'\n",
    "serverPort = 1235\n",
    "clientSocket = socket(AF_INET,SOCK_DGRAM)\n",
    "message = input('lowercase sentence:')\n",
    "clientSocket.sendto(message.encode('utf-8'),(serverName,serverPort))\n",
    "modifiedMessage, serverAddress = clientSocket.recvfrom(2048)\n",
    "print(modifiedMessage.decode('utf-8'))\n",
    "clientSocket.close()"
   ]
  },
  {
   "cell_type": "markdown",
   "metadata": {},
   "source": [
    "# UDP Client (TTL Estimator)"
   ]
  },
  {
   "cell_type": "code",
   "execution_count": null,
   "metadata": {},
   "outputs": [],
   "source": [
    "from socket import *\n",
    "from time import *\n",
    "\n",
    "serverName = 'localhost'\n",
    "serverPort = 1234\n",
    "\n",
    "clientSocket = socket(AF_INET,SOCK_DGRAM)\n",
    "\n",
    "nb_samples = 1000\n",
    "avg_TTL = 0\n",
    "sum_TTL = 0\n",
    "\n",
    "for i in range(nb_samples):\n",
    "\tstart = time_ns()\n",
    "\tclientSocket.sendto(b\"PING\",(serverName,serverPort))\n",
    "\tclientSocket.recvfrom(2048)\n",
    "\tstop = time_ns()\n",
    "\tsum_TTL += stop - start\n",
    "\n",
    "avg_TTL = sum_TTL / nb_samples\n",
    "\n",
    "print(f\"Average TTL from {nb_samples} samples is {avg_TTL}ns\") \n",
    "\n",
    "clientSocket.close()"
   ]
  },
  {
   "cell_type": "markdown",
   "metadata": {},
   "source": [
    "# TCP Client"
   ]
  },
  {
   "cell_type": "code",
   "execution_count": null,
   "metadata": {},
   "outputs": [],
   "source": [
    "from socket import *\n",
    "serverName = '127.0.0.1'\n",
    "serverPort = 1235\n",
    "clientSocket = socket(AF_INET,SOCK_STREAM)\n",
    "clientSocket.connect((serverName,serverPort))\n",
    "message = input('lowercase sentence:')\n",
    "clientSocket.send(message.encode('utf-8'))\n",
    "modifiedMessage = clientSocket.recv(2048)\n",
    "print(modifiedMessage.decode('utf-8'))\n",
    "clientSocket.close()"
   ]
  },
  {
   "cell_type": "markdown",
   "metadata": {},
   "source": [
    "# UDP Client handling packet drops (Infinite Timer)"
   ]
  },
  {
   "cell_type": "code",
   "execution_count": null,
   "metadata": {},
   "outputs": [],
   "source": [
    "from socket import *\n",
    "\n",
    "serverName = '127.0.0.1'\n",
    "serverPort = 1236\n",
    "clientSocket = socket(AF_INET,SOCK_DGRAM)\n",
    "message = input('lowercase sentence:')\n",
    "\n",
    "delay = 0.1 # sec\n",
    "while True:\n",
    "    clientSocket.sendto(message.encode('utf-8'),(serverName,serverPort))\n",
    "    clientSocket.settimeout(delay)\n",
    "    try:\n",
    "        modifiedMessage, serverAddress = clientSocket.recvfrom(2048)\n",
    "    except timeout:\n",
    "        delay *= 2\n",
    "        print('delay doubled..')\n",
    "    else:\n",
    "        break\n",
    "print(modifiedMessage.decode('utf-8'))\n",
    "clientSocket.close()"
   ]
  },
  {
   "cell_type": "markdown",
   "metadata": {},
   "source": [
    "# UDP Client handling packet drops (2 sec upper bound)"
   ]
  },
  {
   "cell_type": "code",
   "execution_count": null,
   "metadata": {},
   "outputs": [],
   "source": [
    "from socket import *\n",
    "\n",
    "serverName = '127.0.0.1'\n",
    "serverPort = 1236\n",
    "clientSocket = socket(AF_INET,SOCK_DGRAM)\n",
    "message = input('lowercase sentence:')\n",
    "\n",
    "delay = 0.1 # sec\n",
    "while True:\n",
    "    clientSocket.sendto(message.encode('utf-8'),(serverName,serverPort))\n",
    "    clientSocket.settimeout(delay)\n",
    "    try:\n",
    "        modifiedMessage, serverAddress = clientSocket.recvfrom(2048)\n",
    "    except timeout:\n",
    "        delay *= 2\n",
    "        print('delay doubled..')\n",
    "        if delay > 2.0:\n",
    "            raise RuntimeError('server seems down')\n",
    "    else:\n",
    "        break\n",
    "print(modifiedMessage.decode('utf-8'))\n",
    "clientSocket.close()"
   ]
  },
  {
   "cell_type": "markdown",
   "metadata": {},
   "source": [
    "# UDP Broadcast Client"
   ]
  },
  {
   "cell_type": "code",
   "execution_count": null,
   "metadata": {},
   "outputs": [],
   "source": [
    "from socket import *\n",
    "\n",
    "broadcastAddr = '192.168.1.255'\n",
    "serverPort = 1234\n",
    "clientSocket = socket(AF_INET,SOCK_DGRAM)\n",
    "clientSocket.setsockopt(SOL_SOCKET,SO_BROADCAST,1)\n",
    "message = input('lowercase sentence:').encode('utf-8')\n",
    "clientSocket.sendto(message,(serverName,serverPort))\n",
    "modifiedMessage, serverAddress = clientSocket.recvfrom(2048)\n",
    "print(modifiedMessage.decode('utf-8'))\n",
    "clientSocket.close()"
   ]
  },
  {
   "cell_type": "markdown",
   "metadata": {},
   "source": [
    "# TCP Send issues\n",
    "\n",
    "- If TCP/IP stack has enough room, `send` returns immediately, and the **complete** message will be handled\n",
    "- If TCP/IP stack is full, `send` is **blocking**\n",
    "- If TCP/IP stack is almost full, `send` returns immediately, but only a **part** of the message will be handled"
   ]
  },
  {
   "cell_type": "code",
   "execution_count": null,
   "metadata": {},
   "outputs": [],
   "source": [
    "from socket import *\n",
    "serverName = '127.0.0.1'\n",
    "serverPort = 1235\n",
    "clientSocket = socket(AF_INET,SOCK_STREAM)\n",
    "clientSocket.connect((serverName,serverPort))\n",
    "message = input('lowercase sentence:')\n",
    "b_message = message.encode('utf-8')\n",
    "bytes_sent = 0\n",
    "while bytes_sent < len(b_message):\n",
    "    message_remaining = b_message[bytes_sent:]\n",
    "    bytes_sent += clientSocket.send(message_remaining)\n",
    "modifiedMessage = clientSocket.recv(4096)\n",
    "print(modifiedMessage.decode('utf-8'))\n",
    "clientSocket.close()"
   ]
  },
  {
   "cell_type": "code",
   "execution_count": null,
   "metadata": {},
   "outputs": [],
   "source": [
    "from socket import *\n",
    "serverName = '127.0.0.1'\n",
    "serverPort = 1240\n",
    "clientSocket = socket(AF_INET,SOCK_STREAM)\n",
    "clientSocket.connect((serverName,serverPort))\n",
    "message = input('lowercase sentence:')\n",
    "b_message = message.encode('utf-8')\n",
    "clientSocket.sendall(b_message)\n",
    "modifiedMessage = clientSocket.recv(4096)\n",
    "print(modifiedMessage.decode('utf-8'))\n",
    "clientSocket.close()"
   ]
  },
  {
   "cell_type": "markdown",
   "metadata": {},
   "source": [
    "# TCP Recv issues\n",
    "- If TCP/IP stack is full enough, `recv` returns immediately, and the **specified size** message will be delivered\n",
    "- If TCP/IP stack is empty, `recv` is **blocking**\n",
    "- If TCP/IP stack is not empty, `recv` returns immediately, but only a **fraction** of the specified size will be delivered\n",
    "\n",
    "---\n",
    "\n",
    "# TCP `recvall`?\n",
    "\n",
    "## Deciding when all data is received is application specific\n",
    "\n",
    "- Fixed size messages\n",
    "- Message size is announced before data is sent\n",
    "- Special delimiters announce end of data"
   ]
  },
  {
   "cell_type": "code",
   "execution_count": null,
   "metadata": {},
   "outputs": [],
   "source": [
    "from struct import *\n",
    "from socket import *\n",
    "\n",
    "header_struct = Struct('!I')\n",
    "\n",
    "def recvall(sock, length):\n",
    "    blocks = []\n",
    "    while length:\n",
    "        block = sock.recv(length)\n",
    "        if not block:\n",
    "            raise EOFError('socket closed with %d bytes left'\n",
    "                           ' in this block'.format(length))\n",
    "        length -= len(block)\n",
    "        blocks.append(block)\n",
    "    return b''.join(blocks)\n",
    "\n",
    "def put_block(sock, message):\n",
    "    block_length = len(message)\n",
    "    sock.sendall(header_struct.pack(block_length))\n",
    "    sock.sendall(message)\n",
    "    \n",
    "def get_block(sock):\n",
    "    data = recvall(sock, header_struct.size)\n",
    "    (block_length,) = header_struct.unpack(data)\n",
    "    return recvall(sock, block_length)\n",
    "\n",
    "serverName = '127.0.0.1'\n",
    "serverPort = 1241\n",
    "clientSocket = socket(AF_INET,SOCK_STREAM)\n",
    "clientSocket.connect((serverName,serverPort))\n",
    "message = input('lowercase sentence:')\n",
    "b_message = message.encode('utf-8')\n",
    "put_block(clientSocket,b_message)\n",
    "modifiedMessage = get_block(clientSocket)\n",
    "print(modifiedMessage.decode('utf-8'))\n",
    "clientSocket.close()"
   ]
  },
  {
   "cell_type": "markdown",
   "metadata": {},
   "source": [
    "# TCP Client (with Function)"
   ]
  },
  {
   "cell_type": "code",
   "execution_count": null,
   "metadata": {},
   "outputs": [],
   "source": [
    "from socket import *\n",
    "serverName = '127.0.0.1'\n",
    "serverPort = 1234\n",
    "\n",
    "def make_request(message):\n",
    "    clientSocket = socket(AF_INET,SOCK_STREAM)\n",
    "    clientSocket.connect((serverName,serverPort))\n",
    "    clientSocket.sendall(message.encode('utf-8'))\n",
    "    modifiedMessage = clientSocket.recv(4096)\n",
    "    print(modifiedMessage.decode('utf-8'))\n",
    "    clientSocket.close()\n",
    "    \n",
    "message = input('lowercase sentence:')\n",
    "make_request(message)"
   ]
  },
  {
   "cell_type": "markdown",
   "metadata": {},
   "source": [
    "# Multi-request Sequential TCP client"
   ]
  },
  {
   "cell_type": "code",
   "execution_count": null,
   "metadata": {},
   "outputs": [],
   "source": [
    "from socket import *\n",
    "serverName = '127.0.0.1'\n",
    "serverPort = 1234\n",
    "\n",
    "def make_request(message):\n",
    "    clientSocket = socket(AF_INET,SOCK_STREAM)\n",
    "    clientSocket.connect((serverName,serverPort))\n",
    "    clientSocket.sendall(message.encode('utf-8'))\n",
    "    modifiedMessage = clientSocket.recv(4096)\n",
    "    print(modifiedMessage.decode('utf-8'))\n",
    "    clientSocket.close()\n",
    "    \n",
    "message = input('lowercase sentence:')\n",
    "for index in range(50):\n",
    "    make_request(message)"
   ]
  },
  {
   "cell_type": "markdown",
   "metadata": {},
   "source": [
    "# MultiThread TCP Client"
   ]
  },
  {
   "cell_type": "code",
   "execution_count": null,
   "metadata": {},
   "outputs": [],
   "source": [
    "from socket import *\n",
    "from threading import *\n",
    "\n",
    "serverName = '127.0.0.1'\n",
    "serverPort = 1234\n",
    "\n",
    "def make_request(message):\n",
    "    clientSocket = socket(AF_INET,SOCK_STREAM)\n",
    "    clientSocket.connect((serverName,serverPort))\n",
    "    clientSocket.send(message.encode('utf-8'))\n",
    "    modifiedMessage = clientSocket.recv(4096)\n",
    "    print(modifiedMessage.decode('utf-8'))\n",
    "    clientSocket.close()\n",
    "    \n",
    "message = input('lowercase sentence:')\n",
    "for i in range(50):\n",
    "    Thread(target=make_request, args=(message,)).start()"
   ]
  },
  {
   "cell_type": "markdown",
   "metadata": {},
   "source": [
    "# Multi-thread TCP client (with minimal error management)"
   ]
  },
  {
   "cell_type": "code",
   "execution_count": null,
   "metadata": {},
   "outputs": [],
   "source": [
    "from socket import *\n",
    "from threading import *\n",
    "import logging\n",
    "\n",
    "format = \"%(asctime)s: %(message)s\"\n",
    "logging.basicConfig(format=format, level=logging.INFO, datefmt=\"%H:%M:%S\")\n",
    "\n",
    "serverName = '127.0.0.1'\n",
    "serverPort = 1241\n",
    "\n",
    "def make_request(message):\n",
    "    clientSocket = socket(AF_INET,SOCK_STREAM)\n",
    "    try:\n",
    "        clientSocket.connect((serverName,serverPort))\n",
    "    except error:\n",
    "        logging.info(\"Connect failed, aborting\")\n",
    "        clientSocket.close()\n",
    "        return\n",
    "    try:\n",
    "        clientSocket.send(message.encode('utf-8'))\n",
    "    except error:\n",
    "        logging.info(\"Send failed, aborting\")\n",
    "        clientSocket.close()\n",
    "        return\n",
    "    try:\n",
    "        modifiedMessage = clientSocket.recv(4096)\n",
    "    except error:\n",
    "        logging.info(\"Recv failed, aborting\")\n",
    "        clientSocket.close()\n",
    "        return\n",
    "    logging.info(modifiedMessage.decode('utf-8'))\n",
    "    clientSocket.close()\n",
    "    \n",
    "message = input('lowercase sentence:')\n",
    "for i in range(50):\n",
    "    Thread(target=make_request, args=(message,)).start()"
   ]
  }
 ],
 "metadata": {
  "kernelspec": {
   "display_name": "Python 3",
   "language": "python",
   "name": "python3"
  },
  "language_info": {
   "codemirror_mode": {
    "name": "ipython",
    "version": 3
   },
   "file_extension": ".py",
   "mimetype": "text/x-python",
   "name": "python",
   "nbconvert_exporter": "python",
   "pygments_lexer": "ipython3",
   "version": "3.8.5"
  }
 },
 "nbformat": 4,
 "nbformat_minor": 4
}
