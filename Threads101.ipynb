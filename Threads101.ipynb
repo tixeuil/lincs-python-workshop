{
 "cells": [
  {
   "cell_type": "markdown",
   "metadata": {},
   "source": [
    "# Python threads 101\n",
    "- ## Sébastien Tixeuil\n",
    "- ## LINCS Python Workshop 24 March 2021"
   ]
  },
  {
   "cell_type": "markdown",
   "metadata": {},
   "source": [
    "# Sources\n",
    "- <https://realpython.com/intro-to-python-threading/>\n",
    "- <https://realpython.com/python-concurrency/>"
   ]
  },
  {
   "cell_type": "markdown",
   "metadata": {},
   "source": [
    "# Basic Threading"
   ]
  },
  {
   "cell_type": "code",
   "execution_count": null,
   "metadata": {},
   "outputs": [],
   "source": [
    "import threading\n",
    "import time\n",
    "\n",
    "def thread_function(name):\n",
    "    print(f\"Thread {name} starting\")\n",
    "    time.sleep(2)\n",
    "    print(f\"Thread {name} finishing\")\n",
    "\n",
    "print(f\"Main: Before starting thread\")\n",
    "x = threading.Thread(target=thread_function, args=(1,))\n",
    "x.start()\n",
    "print(f\"Main: Thread has started\")\n",
    "x.join()\n",
    "print(f\"Main: Thread is finished\")"
   ]
  },
  {
   "cell_type": "markdown",
   "metadata": {},
   "source": [
    "# From `print` to `logging.info`\n",
    "- `print` output is often mashed up when used is several threads\n",
    "- `logging` permits thread-safe output"
   ]
  },
  {
   "cell_type": "code",
   "execution_count": null,
   "metadata": {},
   "outputs": [],
   "source": [
    "import logging\n",
    "\n",
    "def thread_function(name):\n",
    "    logging.info(\"Thread %s: starting\", name)\n",
    "    time.sleep(2)\n",
    "    logging.info(\"Thread %s: finishing\", name)\n",
    "\n",
    "format = \"%(asctime)s: %(message)s\"\n",
    "logging.basicConfig(format=format, level=logging.INFO, datefmt=\"%H:%M:%S\")\n",
    "\n",
    "logging.info(\"Main    : before creating thread\")\n",
    "x = threading.Thread(target=thread_function, args=(1,))\n",
    "logging.info(\"Main    : before running thread\")\n",
    "x.start()\n",
    "logging.info(\"Main    : wait for the thread to finish\")\n",
    "x.join()\n",
    "logging.info(\"Main    : all done\")"
   ]
  },
  {
   "cell_type": "markdown",
   "metadata": {},
   "source": [
    "# What if I don't join?"
   ]
  },
  {
   "cell_type": "code",
   "execution_count": null,
   "metadata": {},
   "outputs": [],
   "source": [
    "logging.info(\"Main    : before creating thread\")\n",
    "x = threading.Thread(target=thread_function, args=(1,))\n",
    "logging.info(\"Main    : before running thread\")\n",
    "x.start()\n",
    "#logging.info(\"Main    : wait for the thread to finish\")\n",
    "#x.join()\n",
    "logging.info(\"Main    : all done\")"
   ]
  },
  {
   "cell_type": "markdown",
   "metadata": {},
   "source": [
    "# Many threads are better than one\n",
    "- creating several threads is not harder\n",
    "- in order to `join`, one must keep track of created threads"
   ]
  },
  {
   "cell_type": "code",
   "execution_count": null,
   "metadata": {},
   "outputs": [],
   "source": [
    "logging.info(\"Main    : before creating threads\")\n",
    "threads = list()\n",
    "for index in range(4):\n",
    "    x = threading.Thread(target=thread_function, args=(index,))\n",
    "    logging.info(\"Main    : before running thread\")\n",
    "    x.start()\n",
    "    threads.append(x)\n",
    "for thread in threads:\n",
    "    logging.info(\"Main    : wait for the thread to finish\")\n",
    "    thread.join()\n",
    "logging.info(\"Main    : all done\")"
   ]
  },
  {
   "cell_type": "markdown",
   "metadata": {},
   "source": [
    "# Sequential counting\n",
    "- can we improve the performance by using several threads?"
   ]
  },
  {
   "cell_type": "code",
   "execution_count": null,
   "metadata": {},
   "outputs": [],
   "source": [
    "def thread_function_count_to(name,count_to):\n",
    "    logging.info(\"Thread %s: starting\", name)\n",
    "    count = 0\n",
    "    for i in range(count_to):\n",
    "        count += 1\n",
    "    logging.info(\"Thread %s: finishing\", name)\n",
    "    \n",
    "logging.info(\"Main    : before counting\")\n",
    "thread_function_count_to(1,160000000)\n",
    "logging.info(\"Main    : all done\")"
   ]
  },
  {
   "cell_type": "markdown",
   "metadata": {},
   "source": [
    "# Threaded counting\n",
    "- split the counting between several threads, so as to use multiple cores in the CPU"
   ]
  },
  {
   "cell_type": "code",
   "execution_count": null,
   "metadata": {},
   "outputs": [],
   "source": [
    "def thread_function_count_to(name,count_to):\n",
    "    logging.info(\"Thread %s: starting\", name)\n",
    "    count = 0\n",
    "    for i in range(count_to):\n",
    "        count += 1\n",
    "    logging.info(\"Thread %s: finishing\", name)\n",
    "    \n",
    "logging.info(\"Main    : before creating threads\")\n",
    "threads = list()\n",
    "for index in range(4):\n",
    "    x = threading.Thread(target=thread_function_count_to, args=(index,40000000))\n",
    "    logging.info(\"Main    : before running thread\")\n",
    "    x.start()\n",
    "threads.append(x)\n",
    "for thread in threads:\n",
    "    logging.info(\"Main    : wait for the thread to finish\")\n",
    "    thread.join()\n",
    "logging.info(\"Main    : all done\")"
   ]
  },
  {
   "cell_type": "markdown",
   "metadata": {},
   "source": [
    "# The Infamous GIL\n",
    "- <https://realpython.com/python-gil/>"
   ]
  },
  {
   "cell_type": "markdown",
   "metadata": {},
   "source": [
    "# Sequential, no session"
   ]
  },
  {
   "cell_type": "code",
   "execution_count": null,
   "metadata": {},
   "outputs": [],
   "source": [
    "import requests\n",
    "\n",
    "def download_site(url):\n",
    "    with requests.get(url) as response:\n",
    "        logging.info(f\"Read {len(response.content)} from {url}\")\n",
    "\n",
    "def download_all_sites(sites):\n",
    "    for url in sites:\n",
    "        download_site(url)\n",
    "            \n",
    "sites = [\n",
    "        \"https://realpython.com/intro-to-python-threading/\",\n",
    "        \"https://realpython.com/python-concurrency/\",\n",
    "] * 50\n",
    "start_time = time.time()\n",
    "download_all_sites(sites)\n",
    "duration = time.time() - start_time\n",
    "logging.info(f\"Downloaded {len(sites)} in {duration} seconds\")"
   ]
  },
  {
   "cell_type": "markdown",
   "metadata": {},
   "source": [
    "# Sequential, sessions\n",
    "- sessions can optimize HTTP related traffic"
   ]
  },
  {
   "cell_type": "code",
   "execution_count": null,
   "metadata": {},
   "outputs": [],
   "source": [
    "import requests\n",
    "\n",
    "def download_site(url, session):\n",
    "    with session.get(url) as response:\n",
    "        logging.info(f\"Read {len(response.content)} from {url}\")\n",
    "\n",
    "def download_all_sites(sites):\n",
    "    with requests.Session() as session:\n",
    "        for url in sites:\n",
    "            download_site(url, session)\n",
    "            \n",
    "sites = [\n",
    "        \"https://realpython.com/intro-to-python-threading/\",\n",
    "        \"https://realpython.com/python-concurrency/\",\n",
    "] * 50\n",
    "start_time = time.time()\n",
    "download_all_sites(sites)\n",
    "duration = time.time() - start_time\n",
    "logging.info(f\"Downloaded {len(sites)} in {duration} seconds\")"
   ]
  },
  {
   "cell_type": "markdown",
   "metadata": {},
   "source": [
    "# Multithread, no session"
   ]
  },
  {
   "cell_type": "code",
   "execution_count": null,
   "metadata": {},
   "outputs": [],
   "source": [
    "import requests\n",
    "\n",
    "def download_site(url):\n",
    "    with requests.get(url) as response:\n",
    "        logging.info(f\"Read {len(response.content)} from {url}\")\n",
    "\n",
    "def download_all_sites(sites):\n",
    "    for url in sites:\n",
    "        download_site(url)\n",
    "            \n",
    "sites = [\n",
    "        \"https://realpython.com/intro-to-python-threading/\",\n",
    "        \"https://realpython.com/python-concurrency/\",\n",
    "] * 50\n",
    "\n",
    "threads = list()\n",
    "start_time = time.time()\n",
    "for index in range(5):\n",
    "    x = threading.Thread(target=download_all_sites, args=(sites[index*20:(index+1)*20],), daemon=True)\n",
    "    x.start()\n",
    "    threads.append(x)\n",
    "logging.info(\"Main    : wait for the thread to finish\")\n",
    "for thread in threads:   \n",
    "    thread.join()\n",
    "duration = time.time() - start_time\n",
    "logging.info(f\"Downloaded {len(sites)} in {duration} seconds\")"
   ]
  },
  {
   "cell_type": "markdown",
   "metadata": {},
   "source": [
    "# Multithread, session\n",
    "- one can combine threads and sessions"
   ]
  },
  {
   "cell_type": "code",
   "execution_count": null,
   "metadata": {},
   "outputs": [],
   "source": [
    "import requests\n",
    "\n",
    "def download_site(url,session):\n",
    "    with session.get(url) as response:\n",
    "        logging.info(f\"Read {len(response.content)} from {url}\")\n",
    "\n",
    "def download_all_sites(sites):\n",
    "    with requests.Session() as session:\n",
    "        for url in sites:\n",
    "            download_site(url, session)\n",
    "            \n",
    "sites = [\n",
    "        \"https://realpython.com/intro-to-python-threading/\",\n",
    "        \"https://realpython.com/python-concurrency/\",\n",
    "] * 50\n",
    "\n",
    "threads = list()\n",
    "start_time = time.time()\n",
    "for index in range(5):\n",
    "    x = threading.Thread(target=download_all_sites, args=(sites[index*20:(index+1)*20],), daemon=True)\n",
    "    x.start()\n",
    "    threads.append(x)\n",
    "logging.info(\"Main    : wait for the thread to finish\")\n",
    "for thread in threads:\n",
    "    thread.join()\n",
    "duration = time.time() - start_time\n",
    "logging.info(f\"Downloaded {len(sites)} in {duration} seconds\")"
   ]
  },
  {
   "cell_type": "markdown",
   "metadata": {},
   "source": [
    "# Shared variables\n",
    "- global variables can be shared between threads"
   ]
  },
  {
   "cell_type": "code",
   "execution_count": null,
   "metadata": {},
   "outputs": [],
   "source": [
    "value = 0\n",
    "def thread_function_2(name):\n",
    "    global value\n",
    "    logging.info(\"Thread %s: starting\", name)\n",
    "    value += 1\n",
    "    logging.info(\"Thread %s: finishing\", name)\n",
    "    \n",
    "logging.info(\"Main    : before creating threads\")\n",
    "threads = list()\n",
    "for index in range(4):\n",
    "    x = threading.Thread(target=thread_function_2, args=(index,), daemon=True)\n",
    "    logging.info(\"Main    : before running thread\")\n",
    "    x.start()\n",
    "    threads.append(x)\n",
    "for thread in threads:\n",
    "    logging.info(\"Main    : wait for the thread to finish\")\n",
    "    thread.join()\n",
    "logging.info(\"Main    : all done\")\n",
    "\n",
    "logging.info(f\"Value = {value}\")"
   ]
  },
  {
   "cell_type": "markdown",
   "metadata": {},
   "source": [
    "# More Shared variables"
   ]
  },
  {
   "cell_type": "code",
   "execution_count": null,
   "metadata": {},
   "outputs": [],
   "source": [
    "value = 0\n",
    "def thread_function_3(name):\n",
    "    global value\n",
    "    logging.info(\"Thread %s: starting\", name)\n",
    "    for index in range(1000000):\n",
    "        value += 1\n",
    "    logging.info(\"Thread %s: finishing\", name)\n",
    "    \n",
    "logging.info(\"Main    : before creating threads\")\n",
    "threads = list()\n",
    "for index in range(4):\n",
    "    x = threading.Thread(target=thread_function_3, args=(index,), daemon=True)\n",
    "    logging.info(\"Main    : before running thread\")\n",
    "    x.start()\n",
    "    threads.append(x)\n",
    "for thread in threads:\n",
    "    logging.info(\"Main    : wait for the thread to finish\")\n",
    "    thread.join()\n",
    "logging.info(\"Main    : all done\")\n",
    "\n",
    "logging.info(f\"Value = {value}\")"
   ]
  },
  {
   "cell_type": "markdown",
   "metadata": {},
   "source": [
    "# Many operations are not atomic"
   ]
  },
  {
   "cell_type": "code",
   "execution_count": null,
   "metadata": {},
   "outputs": [],
   "source": [
    "def inc(x):\n",
    "    x += 1\n",
    "    \n",
    "import dis\n",
    "dis.dis(inc)"
   ]
  },
  {
   "cell_type": "markdown",
   "metadata": {},
   "source": [
    "# Race condition\n",
    "- race conditions occur when several threads modify the same variable/object, but the modification is not atomic "
   ]
  },
  {
   "cell_type": "code",
   "execution_count": null,
   "metadata": {},
   "outputs": [],
   "source": [
    "value = 0\n",
    "def thread_function_4(name):\n",
    "    global value\n",
    "    logging.info(\"Thread %s: starting\", name)\n",
    "    local_value = value\n",
    "    local_value += 1\n",
    "    time.sleep(0.1)\n",
    "    value = local_value\n",
    "    logging.info(\"Thread %s: finishing\", name)\n",
    "    \n",
    "logging.info(\"Main    : before creating threads\")\n",
    "threads = list()\n",
    "for index in range(4):\n",
    "    x = threading.Thread(target=thread_function_4, args=(index,), daemon=True)\n",
    "    logging.info(\"Main    : before running thread\")\n",
    "    x.start()\n",
    "    threads.append(x)\n",
    "for thread in threads:\n",
    "    logging.info(\"Main    : wait for the thread to finish\")\n",
    "    thread.join()\n",
    "logging.info(\"Main    : all done\")\n",
    "\n",
    "print(f\"Value = {value}\")"
   ]
  },
  {
   "cell_type": "markdown",
   "metadata": {},
   "source": [
    "# Basic locks\n",
    "- a `Lock` permits to make an operation atomic\n",
    "- first `aquire` lock to make sure we are the only one modifying the variable\n",
    "- modify the variable\n",
    "- last, `release` lock to enable other threads to modify the variable as well"
   ]
  },
  {
   "cell_type": "code",
   "execution_count": null,
   "metadata": {},
   "outputs": [],
   "source": [
    "value = 0\n",
    "lock = threading.Lock()\n",
    "\n",
    "def thread_function_4_lock(name):\n",
    "    global value\n",
    "    global lock\n",
    "    logging.info(\"Thread %s: starting\", name)\n",
    "    lock.acquire()\n",
    "    logging.info(\"Thread %s: acquired lock\", name)\n",
    "    local_value = value\n",
    "    local_value += 1\n",
    "    time.sleep(0.1)\n",
    "    value = local_value\n",
    "    lock.release()\n",
    "    logging.info(\"Thread %s: released lock\", name)\n",
    "    logging.info(\"Thread %s: finishing\", name)\n",
    "    \n",
    "logging.info(\"Main    : before creating threads\")\n",
    "threads = list()\n",
    "for index in range(4):\n",
    "    x = threading.Thread(target=thread_function_4_lock, args=(index,), daemon=True)\n",
    "    logging.info(\"Main    : before running thread\")\n",
    "    x.start()\n",
    "    threads.append(x)\n",
    "for thread in threads:\n",
    "    logging.info(\"Main    : wait for the thread to finish\")\n",
    "    thread.join()\n",
    "logging.info(\"Main    : all done\")\n",
    "\n",
    "print(f\"Value = {value}\")"
   ]
  },
  {
   "cell_type": "markdown",
   "metadata": {},
   "source": [
    "# Basic locks are compatible with context managers\n",
    "- permits exception-safe code with (almost) no headhache\n",
    "- not suitable for all constructions"
   ]
  },
  {
   "cell_type": "code",
   "execution_count": null,
   "metadata": {},
   "outputs": [],
   "source": [
    "value = 0\n",
    "lock = threading.Lock()\n",
    "\n",
    "def thread_function_4_lock(name):\n",
    "    global value\n",
    "    global lock\n",
    "    logging.info(\"Thread %s: starting\", name)\n",
    "    with lock:\n",
    "        logging.info(\"Thread %s: acquired lock\", name)\n",
    "        local_value = value\n",
    "        local_value += 1\n",
    "        time.sleep(0.1)\n",
    "        value = local_value\n",
    "    logging.info(\"Thread %s: released lock\", name)\n",
    "    logging.info(\"Thread %s: finishing\", name)\n",
    "    \n",
    "logging.info(\"Main    : before creating threads\")\n",
    "threads = list()\n",
    "for index in range(4):\n",
    "    x = threading.Thread(target=thread_function_4_lock, args=(index,), daemon=True)\n",
    "    logging.info(\"Main    : before running thread\")\n",
    "    x.start()\n",
    "    threads.append(x)\n",
    "for thread in threads:\n",
    "    logging.info(\"Main    : wait for the thread to finish\")\n",
    "    thread.join()\n",
    "logging.info(\"Main    : all done\")\n",
    "\n",
    "print(f\"Value = {value}\")"
   ]
  },
  {
   "cell_type": "markdown",
   "metadata": {},
   "source": [
    "# Producer / Consumer\n",
    "- important multi-thread construct\n",
    "- one (or several) **producer** produces values/objects/requests\n",
    "- one (or several) **consumer** consumes values/objects/requests and executes code accordingly"
   ]
  },
  {
   "cell_type": "code",
   "execution_count": null,
   "metadata": {},
   "outputs": [],
   "source": [
    "import random\n",
    "\n",
    "message = 0\n",
    "producer_lock = threading.Lock()\n",
    "consumer_lock = threading.Lock()\n",
    "\n",
    "def pipeline_init():\n",
    "    global message, producer_lock, consumer_lock\n",
    "    message = 0\n",
    "    consumer_lock.acquire()\n",
    "    \n",
    "def consume_message():\n",
    "    global message, producer_lock, consumer_lock\n",
    "    consumer_lock.acquire()\n",
    "    r = message\n",
    "    producer_lock.release()\n",
    "    return r\n",
    "\n",
    "def produce_message( m ):\n",
    "    global message, producer_lock, consumer_lock\n",
    "    producer_lock.acquire()\n",
    "    message = m\n",
    "    consumer_lock.release()\n",
    "    \n",
    "def consumer_task():\n",
    "    r = consume_message()\n",
    "    while r != 0:\n",
    "        logging.info(f\"Consumed: {r}\")\n",
    "        r = consume_message()\n",
    "        \n",
    "def producer_task():\n",
    "    m = random.randint(0,10)\n",
    "    produce_message( m )\n",
    "    while m != 0:\n",
    "        m = random.randint(0,10)\n",
    "        produce_message( m )\n",
    "        \n",
    "logging.info(\"Main    : before creating threads\")\n",
    "pipeline_init()\n",
    "\n",
    "c = threading.Thread(target=consumer_task)\n",
    "p = threading.Thread(target=producer_task)\n",
    "\n",
    "logging.info(\"Main    : before running thread\")\n",
    "c.start()\n",
    "p.start()\n",
    "\n",
    "logging.info(\"Main    : wait for the thread to finish\")\n",
    "p.join()\n",
    "c.join()\n",
    "logging.info(\"Main    : all done\")\n"
   ]
  },
  {
   "cell_type": "markdown",
   "metadata": {},
   "source": [
    "# Producer / Consumer with a queue\n",
    "- `queue.Queue` is thread-safe\n",
    "- simply use `get` and `put`, the locks will be managed accordingly"
   ]
  },
  {
   "cell_type": "code",
   "execution_count": null,
   "metadata": {},
   "outputs": [],
   "source": [
    "import random\n",
    "import queue\n",
    "\n",
    "queue = queue.Queue(maxsize=10)\n",
    "   \n",
    "def consumer_task():\n",
    "    global queue\n",
    "    r = queue.get()\n",
    "    while r != 0:\n",
    "        logging.info(f\"Consumed: {r}\")\n",
    "        r = queue.get()\n",
    "        \n",
    "def producer_task():\n",
    "    global queue\n",
    "    m = random.randint(0,10)\n",
    "    queue.put( m )\n",
    "    while m != 0:\n",
    "        m = random.randint(0,10)\n",
    "        queue.put( m )\n",
    "        \n",
    "logging.info(\"Main    : before creating threads\")\n",
    "\n",
    "c = threading.Thread(target=consumer_task, daemon=True)\n",
    "p = threading.Thread(target=producer_task, daemon=True)\n",
    "\n",
    "logging.info(\"Main    : before running thread\")\n",
    "c.start()\n",
    "p.start()\n",
    "\n",
    "logging.info(\"Main    : wait for the thread to finish\")\n",
    "p.join()\n",
    "c.join()\n",
    "logging.info(\"Main    : all done\")\n"
   ]
  },
  {
   "cell_type": "markdown",
   "metadata": {},
   "source": [
    "# Producer / **slow** consumer and a queue\n",
    "- the consumer may slow down if the related code is time consuming"
   ]
  },
  {
   "cell_type": "code",
   "execution_count": null,
   "metadata": {},
   "outputs": [],
   "source": [
    "import random\n",
    "import queue\n",
    "\n",
    "queue = queue.Queue(maxsize=10)\n",
    "   \n",
    "def consumer_task():\n",
    "    global queue\n",
    "    r = queue.get()\n",
    "    while r != 0:\n",
    "        logging.info(f\"Consumed: {r}\")\n",
    "        time.sleep(0.5)\n",
    "        r = queue.get()\n",
    "        \n",
    "def producer_task():\n",
    "    global queue\n",
    "    r = 0\n",
    "    m = random.randint(0,10)\n",
    "    queue.put( m )\n",
    "    while m != 0:\n",
    "        r += 1\n",
    "        m = random.randint(0,10)\n",
    "        queue.put( m )\n",
    "    logging.info(f\"Produced {r} values\")\n",
    "        \n",
    "logging.info(\"Main    : before creating threads\")\n",
    "\n",
    "c = threading.Thread(target=consumer_task, daemon=True)\n",
    "p = threading.Thread(target=producer_task, daemon=True)\n",
    "\n",
    "logging.info(\"Main    : before running thread\")\n",
    "c.start()\n",
    "p.start()\n",
    "\n",
    "logging.info(\"Main    : wait for the thread to finish\")\n",
    "p.join()\n",
    "c.join()\n",
    "logging.info(\"Main    : all done\")\n"
   ]
  },
  {
   "cell_type": "markdown",
   "metadata": {},
   "source": [
    "# Producer with many **slow** consumers and a queue"
   ]
  },
  {
   "cell_type": "code",
   "execution_count": null,
   "metadata": {},
   "outputs": [],
   "source": [
    "import random\n",
    "import queue\n",
    "\n",
    "queue = queue.Queue(maxsize=10)\n",
    "   \n",
    "def consumer_task():\n",
    "    global queue\n",
    "    r = queue.get()\n",
    "    while r != 0:\n",
    "        logging.info(f\"Consumed: {r}\")\n",
    "        time.sleep(0.5)\n",
    "        r = queue.get()\n",
    "\n",
    "def producer_task():\n",
    "    global queue\n",
    "    r = 0\n",
    "    m = random.randint(0,10)\n",
    "    queue.put( m )\n",
    "    while m != 0:\n",
    "        r += 1\n",
    "        m = random.randint(0,10)\n",
    "        queue.put( m )\n",
    "    logging.info(f\"Produced {r} values\")\n",
    "        \n",
    "logging.info(\"Main    : before creating threads\")\n",
    "threads = list()\n",
    "for index in range(5):\n",
    "    c = threading.Thread(target=consumer_task, daemon=True)\n",
    "    c.start()\n",
    "    threads.append(c)\n",
    "p = threading.Thread(target=producer_task, daemon=True)\n",
    "p.start()\n",
    "threads.append(p)\n",
    "\n",
    "logging.info(\"Main    : wait for the threads to finish\")\n",
    "for thread in threads:\n",
    "    thread.join()\n",
    "logging.info(\"Main    : all done\")\n"
   ]
  },
  {
   "cell_type": "markdown",
   "metadata": {},
   "source": [
    "- Only one consumer thread exited, the others are stuck on `get`\n",
    "- As a result, the main thread is stuck on `join`"
   ]
  },
  {
   "cell_type": "markdown",
   "metadata": {},
   "source": [
    "# Producer with many **slow** consumers and a queue with `timeout`"
   ]
  },
  {
   "cell_type": "code",
   "execution_count": null,
   "metadata": {},
   "outputs": [],
   "source": [
    "import random\n",
    "import queue\n",
    "from queue import Empty as Empty\n",
    "\n",
    "queue = queue.Queue(maxsize=10)\n",
    "   \n",
    "def consumer_task():\n",
    "    global queue\n",
    "    try:\n",
    "        r = queue.get(timeout=5)\n",
    "        while r != 0:\n",
    "            logging.info(f\"Consumed: {r}\")\n",
    "            time.sleep(0.5)\n",
    "            r = queue.get(timeout=5)\n",
    "    except Empty:\n",
    "        logging.info(f\"Queue was empty for a while, exiting thread\")\n",
    "        \n",
    "def producer_task():\n",
    "    global queue\n",
    "    r = 0\n",
    "    m = random.randint(0,10)\n",
    "    queue.put( m )\n",
    "    while m != 0:\n",
    "        r += 1\n",
    "        m = random.randint(0,10)\n",
    "        queue.put( m )\n",
    "    logging.info(f\"Produced {r} values\")\n",
    "        \n",
    "logging.info(\"Main    : before creating threads\")\n",
    "threads = list()\n",
    "for index in range(5):\n",
    "    c = threading.Thread(target=consumer_task, daemon=True)\n",
    "    c.start()\n",
    "    threads.append(c)\n",
    "p = threading.Thread(target=producer_task, daemon=True)\n",
    "p.start()\n",
    "threads.append(p)\n",
    "\n",
    "logging.info(\"Main    : wait for the threads to finish\")\n",
    "for thread in threads:\n",
    "    thread.join()\n",
    "logging.info(\"Main    : all done\")\n"
   ]
  },
  {
   "cell_type": "code",
   "execution_count": null,
   "metadata": {},
   "outputs": [],
   "source": []
  }
 ],
 "metadata": {
  "kernelspec": {
   "display_name": "Python 3",
   "language": "python",
   "name": "python3"
  },
  "language_info": {
   "codemirror_mode": {
    "name": "ipython",
    "version": 3
   },
   "file_extension": ".py",
   "mimetype": "text/x-python",
   "name": "python",
   "nbconvert_exporter": "python",
   "pygments_lexer": "ipython3",
   "version": "3.8.5"
  }
 },
 "nbformat": 4,
 "nbformat_minor": 4
}
